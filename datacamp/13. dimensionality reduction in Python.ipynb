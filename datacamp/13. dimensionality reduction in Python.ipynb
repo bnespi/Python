{
 "cells": [
  {
   "cell_type": "markdown",
   "metadata": {
    "collapsed": true,
    "pycharm": {
     "name": "#%% md\n"
    }
   },
   "source": [
    "**Introduction**\n",
    "___\n",
    "- Tidy data\n",
    "    - every column is a feature\n",
    "    - every row is an observation for each variable\n",
    "    - Pandas dataframe .shape attribute\n",
    "- high dimensionality > 10 columns\n",
    "- When to use dimensionality reduction?\n",
    "    - drop columns with no variance (i.e. same values)\n",
    "    - Pandas dataframe .describe() method\n",
    "        - no variance = std = 0, max and min are the same\n",
    "        - exclude = 'number' --> will show information for non-numeric values\n",
    "___"
   ]
  },
  {
   "cell_type": "code",
   "execution_count": null,
   "outputs": [],
   "source": [
    "#Removing features without variance\n",
    "\n",
    "#A sample of the Pokemon dataset has been loaded as pokemon_df. To\n",
    "#get an idea of which features have little variance you should use\n",
    "#the IPython Shell to calculate summary statistics on this sample.\n",
    "#Then adjust the code to create a smaller, easier to understand,\n",
    "#dataset.\n",
    "\n",
    "# Leave this list as is\n",
    "number_cols = ['HP', 'Attack', 'Defense']\n",
    "\n",
    "# Remove the feature without variance from this list\n",
    "non_number_cols = ['Name', 'Type']\n",
    "\n",
    "# Create a new dataframe by subselecting the chosen features\n",
    "#df_selected = pokemon_df[number_cols + non_number_cols]\n",
    "\n",
    "# Prints the first 5 lines of the new dataframe\n",
    "#print(df_selected.head())\n",
    "\n",
    "#################################################\n",
    "#<script.py> output:\n",
    "#       HP  Attack  Defense                   Name   Type\n",
    "#    0  45      49       49              Bulbasaur  Grass\n",
    "#    1  60      62       63                Ivysaur  Grass\n",
    "#    2  80      82       83               Venusaur  Grass\n",
    "#    3  80     100      123  VenusaurMega Venusaur  Grass\n",
    "#    4  39      52       43             Charmander   Fire\n",
    "#################################################\n",
    "#All Pokemon in this dataset are non-legendary and from generation\n",
    "#one so you could choose to drop those two features."
   ],
   "metadata": {
    "collapsed": false,
    "pycharm": {
     "name": "#%%\n"
    }
   }
  },
  {
   "cell_type": "markdown",
   "source": [
    "**Feature selection vs feature extraction**\n",
    "___\n",
    "- Why reduce dimensionality?\n",
    "    - your dataset will:\n",
    "        - be less complex\n",
    "        - require less disk space\n",
    "        - have lower chance of model overfitting\n",
    "- Feature selection\n",
    "    - .drop('column name', axis=1) [axis indicates column instead of row]\n",
    "- Building a pairplot\n",
    "    - sns.pairplot(data, hue='', diag_kind='hist')\n",
    "- Feature extraction\n",
    "    - calculating new feature(s) from original feature(s)\n",
    "___"
   ],
   "metadata": {
    "collapsed": false
   }
  },
  {
   "cell_type": "code",
   "execution_count": null,
   "outputs": [],
   "source": [
    "#Visually detecting redundant features\n",
    "#Data visualization is a crucial step in any data exploration. Let's\n",
    "#use Seaborn to explore some samples of the US Army ANSUR body\n",
    "#measurement dataset.\n",
    "\n",
    "#Two data samples have been pre-loaded as ansur_df_1 and ansur_df_2.\n",
    "\n",
    "#Seaborn has been imported as sns.\n",
    "\n",
    "# Create a pairplot and color the points using the 'Gender' feature\n",
    "#sns.pairplot(ansur_df_1, hue='Gender', diag_kind='hist')\n",
    "\n",
    "# Show the plot\n",
    "#plt.show()"
   ],
   "metadata": {
    "collapsed": false,
    "pycharm": {
     "name": "#%%\n"
    }
   }
  },
  {
   "cell_type": "markdown",
   "source": [
    "![_images/13.1.svg](_images/13.1.svg)"
   ],
   "metadata": {
    "collapsed": false
   }
  },
  {
   "cell_type": "code",
   "execution_count": null,
   "outputs": [],
   "source": [
    "#Two features are basically duplicates, remove one of them from\n",
    "#the dataset.\n",
    "\n",
    "# Remove one of the redundant features\n",
    "#reduced_df = ansur_df_1.drop('stature_m', axis=1)\n",
    "\n",
    "# Create a pairplot and color the points using the 'Gender' feature\n",
    "#sns.pairplot(reduced_df, hue='Gender')\n",
    "\n",
    "# Show the plot\n",
    "#plt.show()"
   ],
   "metadata": {
    "collapsed": false,
    "pycharm": {
     "name": "#%%\n"
    }
   }
  },
  {
   "cell_type": "markdown",
   "source": [
    "![_images/13.2.svg](_images/13.2.svg)\n",
    "the body height (inches) and stature (meters) hold the same information in a different unit"
   ],
   "metadata": {
    "collapsed": false
   }
  },
  {
   "cell_type": "code",
   "execution_count": null,
   "outputs": [],
   "source": [
    "#Now create a pairplot of the ansur_df_2 data sample and color the\n",
    "#points using the 'Gender' feature.\n",
    "\n",
    "# Create a pairplot and color the points using the 'Gender' feature\n",
    "#sns.pairplot(ansur_df_2, hue='Gender', diag_kind='hist')\n",
    "\n",
    "# Show the plot\n",
    "#plt.show()"
   ],
   "metadata": {
    "collapsed": false,
    "pycharm": {
     "name": "#%%\n"
    }
   }
  },
  {
   "cell_type": "markdown",
   "source": [
    "![_images/13.3.svg](_images/13.3.svg)"
   ],
   "metadata": {
    "collapsed": false
   }
  },
  {
   "cell_type": "code",
   "execution_count": null,
   "outputs": [],
   "source": [
    "#One feature has no variance, remove it from the dataset.\n",
    "# Remove the redundant feature\n",
    "#reduced_df = ansur_df_2.drop('n_legs', axis=1)\n",
    "\n",
    "# Create a pairplot and color the points using the 'Gender' feature\n",
    "#sns.pairplot(reduced_df, hue='Gender', diag_kind='hist')\n",
    "\n",
    "# Show the plot\n",
    "#plt.show()"
   ],
   "metadata": {
    "collapsed": false,
    "pycharm": {
     "name": "#%%\n"
    }
   }
  },
  {
   "cell_type": "markdown",
   "source": [
    "![_images/13.4.svg](_images/13.4.svg)\n",
    "all the individuals in the second sample have two legs."
   ],
   "metadata": {
    "collapsed": false
   }
  },
  {
   "cell_type": "markdown",
   "source": [
    "**t-SNE visualization of high-dimensional data**\n",
    "___\n",
    "- t-distributed stochastic neighbor embedding\n",
    "- t-SNE maximizes distance in 2-dimensional space between dimensions in higher dimensional space\n",
    "- does not work with non-numeric values\n",
    "- learning rate (10-1000) - lower number is conservative\n",
    "___"
   ],
   "metadata": {
    "collapsed": false
   }
  },
  {
   "cell_type": "code",
   "execution_count": null,
   "outputs": [],
   "source": [
    "#Fitting t-SNE to the ANSUR data\n",
    "\n",
    "#t-SNE is a great technique for visual exploration of high dimensional\n",
    "#datasets. In this exercise, you'll apply it to the ANSUR dataset. You'll\n",
    "#remove non-numeric columns from the pre-loaded dataset df and fit TSNE to\n",
    "#this numeric dataset.\n",
    "\n",
    "# Non-numerical columns in the dataset\n",
    "#non_numeric = ['Branch', 'Gender', 'Component']\n",
    "\n",
    "# Drop the non-numerical columns from df\n",
    "#df_numeric = df.drop(non_numeric, axis=1)\n",
    "\n",
    "# Create a t-SNE model with learning rate 50\n",
    "#m = TSNE(learning_rate=50)\n",
    "\n",
    "# Fit and transform the t-SNE model on the numeric dataset\n",
    "#tsne_features = m.fit_transform(df_numeric)\n",
    "\n",
    "#################################################\n",
    "#t-SNE reduced the more than 90 features in the dataset to just 2\n",
    "#which you can now plot.\n",
    "#################################################"
   ],
   "metadata": {
    "collapsed": false,
    "pycharm": {
     "name": "#%%\n"
    }
   }
  },
  {
   "cell_type": "code",
   "execution_count": null,
   "outputs": [],
   "source": [
    "#t-SNE visualisation of dimensionality\n",
    "#Time to look at the results of your hard work. In this exercise,\n",
    "#you will visualize the output of t-SNE dimensionality reduction on\n",
    "#the combined male and female Ansur dataset. You'll create 3\n",
    "#scatterplots of the 2 t-SNE features ('x' and 'y') which were\n",
    "#added to the dataset df. In each scatterplot you'll color the\n",
    "#points according to a different categorical variable.\n",
    "\n",
    "#seaborn has already been imported as sns and matplotlib.pyplot as\n",
    "#plt.\n",
    "\n",
    "# Color the points according to Army Component\n",
    "#sns.scatterplot(x=\"x\", y=\"y\", hue='Component', data=df)\n",
    "\n",
    "# Show the plot\n",
    "#plt.show()"
   ],
   "metadata": {
    "collapsed": false,
    "pycharm": {
     "name": "#%%\n"
    }
   }
  },
  {
   "cell_type": "markdown",
   "source": [
    "![_images/13.5.svg](_images/13.5.svg)"
   ],
   "metadata": {
    "collapsed": false
   }
  },
  {
   "cell_type": "code",
   "execution_count": null,
   "outputs": [],
   "source": [
    "# Color the points by Army Branch\n",
    "#sns.scatterplot(x=\"x\", y=\"y\", hue='Branch', data=df)\n",
    "\n",
    "# Show the plot\n",
    "#plt.show()"
   ],
   "metadata": {
    "collapsed": false,
    "pycharm": {
     "name": "#%%\n"
    }
   }
  },
  {
   "cell_type": "markdown",
   "source": [
    "![_images/13.6.svg](_images/13.6.svg)"
   ],
   "metadata": {
    "collapsed": false
   }
  },
  {
   "cell_type": "code",
   "execution_count": null,
   "outputs": [],
   "source": [
    "# Color the points by Gender\n",
    "#sns.scatterplot(x=\"x\", y=\"y\", hue='Gender', data=df)\n",
    "\n",
    "# Show the plot\n",
    "#plt.show()"
   ],
   "metadata": {
    "collapsed": false,
    "pycharm": {
     "name": "#%%\n"
    }
   }
  },
  {
   "cell_type": "markdown",
   "source": [
    "![_images/13.7.svg](_images/13.7.svg)\n",
    "There is a Male and a Female cluster. t-SNE found these gender \n",
    "differences in body shape without being told about them explicitly!\n",
    "\n",
    "From the second plot you learned there are more males in the \n",
    "Combat Arms Branch."
   ],
   "metadata": {
    "collapsed": false
   }
  }
 ],
 "metadata": {
  "kernelspec": {
   "display_name": "Python 3",
   "language": "python",
   "name": "python3"
  },
  "language_info": {
   "codemirror_mode": {
    "name": "ipython",
    "version": 2
   },
   "file_extension": ".py",
   "mimetype": "text/x-python",
   "name": "python",
   "nbconvert_exporter": "python",
   "pygments_lexer": "ipython2",
   "version": "2.7.6"
  }
 },
 "nbformat": 4,
 "nbformat_minor": 0
}