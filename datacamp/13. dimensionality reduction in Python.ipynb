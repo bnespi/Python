{
 "cells": [
  {
   "cell_type": "markdown",
   "metadata": {
    "collapsed": true,
    "pycharm": {
     "name": "#%% md\n"
    }
   },
   "source": [
    "**Introduction**\n",
    "___\n",
    "- Tidy data\n",
    "    - every column is a feature\n",
    "    - every row is an observation for each variable\n",
    "    - Pandas dataframe .shape attribute\n",
    "- high dimensionality > 10 columns\n",
    "- When to use dimensionality reduction?\n",
    "    - drop columns with no variance (i.e. same values)\n",
    "    - Pandas dataframe .describe() method\n",
    "        - no variance = std = 0, max and min are the same\n",
    "        - exclude = 'number' --> will show information for non-numeric values\n",
    "___"
   ]
  }
 ],
 "metadata": {
  "kernelspec": {
   "display_name": "Python 3",
   "language": "python",
   "name": "python3"
  },
  "language_info": {
   "codemirror_mode": {
    "name": "ipython",
    "version": 2
   },
   "file_extension": ".py",
   "mimetype": "text/x-python",
   "name": "python",
   "nbconvert_exporter": "python",
   "pygments_lexer": "ipython2",
   "version": "2.7.6"
  }
 },
 "nbformat": 4,
 "nbformat_minor": 0
}