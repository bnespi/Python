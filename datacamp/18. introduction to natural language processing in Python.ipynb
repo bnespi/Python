{
 "cells": [
  {
   "cell_type": "markdown",
   "metadata": {
    "collapsed": true,
    "pycharm": {
     "name": "#%% md\n"
    }
   },
   "source": [
    "**Introduction to regular expressions**\n",
    "___\n",
    "- What is Natural Language Processing?\n",
    "    - field of study focused on making sense of language\n",
    "        - using statistics and computers\n",
    "    - you will learn the basics of NLP\n",
    "        - topic identification\n",
    "        - text classification\n",
    "    - other NLP applications\n",
    "        - chatbots\n",
    "        - translation\n",
    "        - sentiment analysis\n",
    "- What exactly are regular expressions?\n",
    "    - strings with a special syntax\n",
    "    - allow us to match patterns in other strings\n",
    "    - applications of regular expressions:\n",
    "        - find all web links in a document\n",
    "        - parse email addresses\n",
    "        - remove/replace unwanted characters\n",
    "- in Python\n",
    "    - import re\n",
    "    - re.match('pattern', 'string')\n",
    "![_images/18.1.PNG](_images/18.1.PNG)\n",
    "![_images/18.2.PNG](_images/18.2.PNG)\n",
    "___"
   ]
  },
  {
   "cell_type": "code",
   "execution_count": 2,
   "outputs": [
    {
     "name": "stdout",
     "output_type": "stream",
     "text": [
      "[\"Let's write RegEx\", \"  Won't that be fun\", '  I sure think so', '  Can you find 4 sentences', '  Or perhaps, all 19 words', '']\n",
      "['Let', 'RegEx', 'Won', 'Can', 'Or']\n",
      "[\"Let's\", 'write', 'RegEx!', \"Won't\", 'that', 'be', 'fun?', 'I', 'sure', 'think', 'so.', 'Can', 'you', 'find', '4', 'sentences?', 'Or', 'perhaps,', 'all', '19', 'words?']\n",
      "['4', '19']\n"
     ]
    }
   ],
   "source": [
    "#Practicing regular expressions: re.split() and re.findall()\n",
    "\n",
    "#Now you'll get a chance to write some regular expressions to match\n",
    "#digits, strings and non-alphanumeric characters. Take a look at\n",
    "#my_string first by printing it in the IPython Shell, to determine\n",
    "#how you might best match the different steps.\n",
    "\n",
    "#Note: It's important to prefix your regex patterns with r to ensure\n",
    "#that your patterns are interpreted in the way you want them to. Else,\n",
    "#you may encounter problems to do with escape sequences in strings. For\n",
    "#example, \"\\n\" in Python is used to indicate a new line, but if you use\n",
    "#the r prefix, it will be interpreted as the raw string \"\\n\" - that is,\n",
    "#the character \"\\\" followed by the character \"n\" - and not as a new line.\n",
    "\n",
    "#The regular expression module re has already been imported for you.\n",
    "\n",
    "#Remember from the video that the syntax for the regex library is to\n",
    "#always to pass the pattern first, and then the string second.\n",
    "\n",
    "import re\n",
    "my_string = \"Let's write RegEx!  Won't that be fun?  I sure think so.  Can you find 4 sentences?  Or perhaps, all 19 words?\"\n",
    "\n",
    "# Write a pattern to match sentence endings: sentence_endings\n",
    "sentence_endings = r\"[.?!]\"\n",
    "\n",
    "# Split my_string on sentence endings and print the result\n",
    "print(re.split(sentence_endings, my_string))\n",
    "\n",
    "# Find all capitalized words in my_string and print the result\n",
    "capitalized_words = r\"[A-Z]\\w+\"\n",
    "print(re.findall(capitalized_words, my_string))\n",
    "\n",
    "# Split my_string on spaces and print the result\n",
    "spaces = r\"\\s+\"\n",
    "print(re.split(spaces, my_string))\n",
    "\n",
    "# Find all digits in my_string and print the result\n",
    "digits = r\"\\d+\"\n",
    "print(re.findall(digits, my_string))\n",
    "\n",
    "#################################################\n",
    "#Practice is the key to mastering RegEx."
   ],
   "metadata": {
    "collapsed": false,
    "pycharm": {
     "name": "#%%\n"
    }
   }
  },
  {
   "cell_type": "markdown",
   "source": [
    "**Introduction to tokenization**\n",
    "___\n",
    "- What is tokenization?\n",
    "    - turning a string or document into **tokens** (smaller chunks)\n",
    "    - one step in preparing a text for NLP\n",
    "    - many different theories and rules\n",
    "    - you can create your own rules using regular expressions\n",
    "    - some examples:\n",
    "        - breaking our words or sentences\n",
    "        - separating punctuation\n",
    "        - separating all hashtags in a tweet\n",
    "    - Why tokenize?\n",
    "        - easier to map part of the speech\n",
    "        - matching common words\n",
    "        - removing unwanted tokens\n",
    "    - nltk library\n",
    "___"
   ],
   "metadata": {
    "collapsed": false
   }
  },
  {
   "cell_type": "code",
   "execution_count": 1,
   "outputs": [
    {
     "name": "stdout",
     "output_type": "stream",
     "text": [
      "{'beat', 'under', 'winter', 'matter', 'kingdom', 'Oh', 'It', 'suggesting', 'minute', 'King', 'SCENE', 'halves', 'get', 'they', 'use', 'house', 'Patsy', 'coconut', \"'em\", 'They', 'together', \"'s\", 'course', 'sovereign', 'since', 'covered', 'I', \"n't\", 'five', 'speak', 'zone', 'and', 'point', 'strand', 'why', 'horse', 'Whoa', 'in', '.', 'In', 'Well', 'or', 'England', '1', 'Halt', 'here', \"'re\", 'Where', 'What', 'to', 'times', 'one', 'weight', 'bird', 'he', 'carrying', 'creeper', 'master', 'who', 'bring', 'ounce', 'Found', 'this', 'lord', 'at', 'coconuts', 'No', 'tropical', 'Please', 'goes', 'martin', 'other', 'African', 'through', 'seek', 'maintain', 'Mercea', 'Not', 'join', 'bangin', 'be', 'ask', 'non-migratory', 'anyway', 'grips', 'by', 'will', 'am', 'does', 'migrate', 'empty', 'KING', '[', 'plover', 'an', 'you', 'carry', 'found', 'are', 'We', 'could', 'fly', 'but', 'Yes', 'it', 'Will', 'mean', 'You', 'just', \"'d\", 'Ridden', 'swallow', 'simple', 'tell', '!', 'these', 'my', '--', '#', 'Arthur', 'yet', 'swallows', 'climes', 'pound', 'castle', 'Am', 'temperate', 'husk', 'is', 'then', 'second', 'dorsal', 'ratios', 'may', 'held', ']', 'me', 'a', 'Listen', 'air-speed', 'SOLDIER', 'son', 'back', 'search', 'Britons', 'breadth', 'ridden', 'wings', ',', 'two', 'if', 'guiding', 'servant', 'strangers', 'land', 'Wait', 'on', 'question', 'Who', '?', 'A', 'go', 'interested', 'order', 'using', 'carried', \"'\", ':', 'that', '2', 'But', 'clop', 'do', 'with', 'ARTHUR', 'The', 'the', 'from', 'your', 'snows', 'court', 'of', 'Uther', 'length', 'So', 'needs', 'That', 'wants', 'Saxons', 'Camelot', \"'m\", 'them', 'European', 'have', \"'ve\", 'maybe', 'line', 'sun', 'where', 'Are', 'there', 'not', 'all', 'grip', 'velocity', 'got', '...', 'wind', 'must', 'Court', 'trusty', 'agree', 'right', 'south', 'warmer', 'our', 'feathers', 'Pull', 'defeator', 'knights', 'every', 'yeah', 'Supposing', 'Pendragon', 'forty-three', 'its'}\n"
     ]
    }
   ],
   "source": [
    "#Word tokenization with NLTK\n",
    "\n",
    "#Here, you'll be using the first scene of Monty Python's Holy Grail,\n",
    "#which has been pre-loaded as scene_one. Feel free to check it out in\n",
    "#the IPython Shell!\n",
    "\n",
    "#Your job in this exercise is to utilize word_tokenize and sent_tokenize\n",
    "#from nltk.tokenize to tokenize both words and sentences from Python\n",
    "#strings - in this case, the first scene of Monty Python's Holy Grail.\n",
    "\n",
    "scene_one=\"SCENE 1: [wind] [clop clop clop] \\nKING ARTHUR: Whoa there!  [clop clop clop] \\nSOLDIER #1: Halt!  Who goes there?\\nARTHUR: It is I, Arthur, son of Uther Pendragon, from the castle of Camelot.  King of the Britons, defeator of the Saxons, sovereign of all England!\\nSOLDIER #1: Pull the other one!\\nARTHUR: I am, ...  and this is my trusty servant Patsy.  We have ridden the length and breadth of the land in search of knights who will join me in my court at Camelot.  I must speak with your lord and master.\\nSOLDIER #1: What?  Ridden on a horse?\\nARTHUR: Yes!\\nSOLDIER #1: You're using coconuts!\\nARTHUR: What?\\nSOLDIER #1: You've got two empty halves of coconut and you're bangin' 'em together.\\nARTHUR: So?  We have ridden since the snows of winter covered this land, through the kingdom of Mercea, through--\\nSOLDIER #1: Where'd you get the coconuts?\\nARTHUR: We found them.\\nSOLDIER #1: Found them?  In Mercea?  The coconut's tropical!\\nARTHUR: What do you mean?\\nSOLDIER #1: Well, this is a temperate zone.\\nARTHUR: The swallow may fly south with the sun or the house martin or the plover may seek warmer climes in winter, yet these are not strangers to our land?\\nSOLDIER #1: Are you suggesting coconuts migrate?\\nARTHUR: Not at all.  They could be carried.\\nSOLDIER #1: What?  A swallow carrying a coconut?\\nARTHUR: It could grip it by the husk!\\nSOLDIER #1: It's not a question of where he grips it!  It's a simple question of weight ratios!  A five ounce bird could not carry a one pound coconut.\\nARTHUR: Well, it doesn't matter.  Will you go and tell your master that Arthur from the Court of Camelot is here.\\nSOLDIER #1: Listen.  In order to maintain air-speed velocity, a swallow needs to beat its wings forty-three times every second, right?\\nARTHUR: Please!\\nSOLDIER #1: Am I right?\\nARTHUR: I'm not interested!\\nSOLDIER #2: It could be carried by an African swallow!\\nSOLDIER #1: Oh, yeah, an African swallow maybe, but not a European swallow.  That's my point.\\nSOLDIER #2: Oh, yeah, I agree with that.\\nARTHUR: Will you ask your master if he wants to join my court at Camelot?!\\nSOLDIER #1: But then of course a-- African swallows are non-migratory.\\nSOLDIER #2: Oh, yeah...\\nSOLDIER #1: So they couldn't bring a coconut back anyway...  [clop clop clop] \\nSOLDIER #2: Wait a minute!  Supposing two swallows carried it together?\\nSOLDIER #1: No, they'd have to have it on a line.\\nSOLDIER #2: Well, simple!  They'd just use a strand of creeper!\\nSOLDIER #1: What, held under the dorsal guiding feathers?\\nSOLDIER #2: Well, why not?\\n\"\n",
    "\n",
    "# Import necessary modules\n",
    "from nltk.tokenize import sent_tokenize\n",
    "from nltk.tokenize import word_tokenize\n",
    "\n",
    "# Split scene_one into sentences: sentences\n",
    "sentences = sent_tokenize(scene_one)\n",
    "\n",
    "# Use word_tokenize to tokenize the fourth sentence: tokenized_sent\n",
    "tokenized_sent = word_tokenize(sentences[3])\n",
    "\n",
    "# Make a set of unique tokens in the entire scene: unique_tokens\n",
    "unique_tokens = set(word_tokenize(scene_one))\n",
    "\n",
    "# Print the unique tokens result\n",
    "print(unique_tokens)"
   ],
   "metadata": {
    "collapsed": false,
    "pycharm": {
     "name": "#%%\n"
    }
   }
  },
  {
   "cell_type": "code",
   "execution_count": 4,
   "outputs": [
    {
     "name": "stdout",
     "output_type": "stream",
     "text": [
      "580 588\n",
      "<re.Match object; span=(9, 32), match='[wind] [clop clop clop]'>\n",
      "<re.Match object; span=(0, 7), match='ARTHUR:'>\n"
     ]
    }
   ],
   "source": [
    "#More regex with re.search()\n",
    "\n",
    "#In this exercise, you'll utilize re.search() and re.match() to find\n",
    "#specific tokens. Both search and match expect regex patterns, similar\n",
    "#to those you defined in an earlier exercise. You'll apply these regex\n",
    "#library methods to the same Monty Python text from the nltk corpora.\n",
    "\n",
    "#You have both scene_one and sentences available from the last exercise;\n",
    "#now you can use them with re.search() and re.match() to extract and\n",
    "#match more text.\n",
    "\n",
    "# Import necessary modules\n",
    "from nltk.tokenize import sent_tokenize\n",
    "import re\n",
    "\n",
    "scene_one=\"SCENE 1: [wind] [clop clop clop] \\nKING ARTHUR: Whoa there!  [clop clop clop] \\nSOLDIER #1: Halt!  Who goes there?\\nARTHUR: It is I, Arthur, son of Uther Pendragon, from the castle of Camelot.  King of the Britons, defeator of the Saxons, sovereign of all England!\\nSOLDIER #1: Pull the other one!\\nARTHUR: I am, ...  and this is my trusty servant Patsy.  We have ridden the length and breadth of the land in search of knights who will join me in my court at Camelot.  I must speak with your lord and master.\\nSOLDIER #1: What?  Ridden on a horse?\\nARTHUR: Yes!\\nSOLDIER #1: You're using coconuts!\\nARTHUR: What?\\nSOLDIER #1: You've got two empty halves of coconut and you're bangin' 'em together.\\nARTHUR: So?  We have ridden since the snows of winter covered this land, through the kingdom of Mercea, through--\\nSOLDIER #1: Where'd you get the coconuts?\\nARTHUR: We found them.\\nSOLDIER #1: Found them?  In Mercea?  The coconut's tropical!\\nARTHUR: What do you mean?\\nSOLDIER #1: Well, this is a temperate zone.\\nARTHUR: The swallow may fly south with the sun or the house martin or the plover may seek warmer climes in winter, yet these are not strangers to our land?\\nSOLDIER #1: Are you suggesting coconuts migrate?\\nARTHUR: Not at all.  They could be carried.\\nSOLDIER #1: What?  A swallow carrying a coconut?\\nARTHUR: It could grip it by the husk!\\nSOLDIER #1: It's not a question of where he grips it!  It's a simple question of weight ratios!  A five ounce bird could not carry a one pound coconut.\\nARTHUR: Well, it doesn't matter.  Will you go and tell your master that Arthur from the Court of Camelot is here.\\nSOLDIER #1: Listen.  In order to maintain air-speed velocity, a swallow needs to beat its wings forty-three times every second, right?\\nARTHUR: Please!\\nSOLDIER #1: Am I right?\\nARTHUR: I'm not interested!\\nSOLDIER #2: It could be carried by an African swallow!\\nSOLDIER #1: Oh, yeah, an African swallow maybe, but not a European swallow.  That's my point.\\nSOLDIER #2: Oh, yeah, I agree with that.\\nARTHUR: Will you ask your master if he wants to join my court at Camelot?!\\nSOLDIER #1: But then of course a-- African swallows are non-migratory.\\nSOLDIER #2: Oh, yeah...\\nSOLDIER #1: So they couldn't bring a coconut back anyway...  [clop clop clop] \\nSOLDIER #2: Wait a minute!  Supposing two swallows carried it together?\\nSOLDIER #1: No, they'd have to have it on a line.\\nSOLDIER #2: Well, simple!  They'd just use a strand of creeper!\\nSOLDIER #1: What, held under the dorsal guiding feathers?\\nSOLDIER #2: Well, why not?\\n\"\n",
    "\n",
    "# Split scene_one into sentences: sentences\n",
    "sentences = sent_tokenize(scene_one)\n",
    "\n",
    "# Search for the first occurrence of \"coconuts\" in scene_one: match\n",
    "match = re.search(\"coconuts\", scene_one)\n",
    "\n",
    "# Print the start and end indexes of match\n",
    "print(match.start(), match.end())\n",
    "\n",
    "# Write a regular expression to search for anything in square brackets: pattern1\n",
    "pattern1 = r\"\\[.*\\]\"\n",
    "\n",
    "# Use re.search to find the first text in square brackets\n",
    "print(re.search(pattern1, scene_one))\n",
    "\n",
    "# Find the script notation at the beginning of the fourth sentence and print it\n",
    "pattern2 = r\"[\\w\\s]+:\"\n",
    "print(re.match(pattern2, sentences[3]))\n",
    "\n",
    "#################################################\n",
    "#Now that you're familiar with the basics of tokenization and\n",
    "#regular expressions, it's time to learn about more advanced tokenization."
   ],
   "metadata": {
    "collapsed": false,
    "pycharm": {
     "name": "#%%\n"
    }
   }
  },
  {
   "cell_type": "markdown",
   "source": [
    "**Advanced tokenization with NLTK and regex**\n",
    "___\n",
    "- Regex groups using the \"|\"\n",
    "    - OR is represented using |\n",
    "    - You can define a group using ()\n",
    "    - You can define explicit character ranges using []\n",
    "- Regex ranges and groups\n",
    "![_images/18.3.PNG](_images/18.3.PNG)\n",
    "___"
   ],
   "metadata": {
    "collapsed": false
   }
  }
 ],
 "metadata": {
  "kernelspec": {
   "display_name": "Python 3",
   "language": "python",
   "name": "python3"
  },
  "language_info": {
   "codemirror_mode": {
    "name": "ipython",
    "version": 2
   },
   "file_extension": ".py",
   "mimetype": "text/x-python",
   "name": "python",
   "nbconvert_exporter": "python",
   "pygments_lexer": "ipython2",
   "version": "2.7.6"
  }
 },
 "nbformat": 4,
 "nbformat_minor": 0
}