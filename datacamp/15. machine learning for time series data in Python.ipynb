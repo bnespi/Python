{
 "cells": [
  {
   "cell_type": "markdown",
   "metadata": {
    "collapsed": true,
    "pycharm": {
     "name": "#%% md\n"
    }
   },
   "source": [
    "**Timeseries kinds and applications**\n",
    "___\n",
    "- data that changes over time\n",
    "    - e.g., atmospheric changes, demographic information, financial data, voice wave forms\n",
    "    - datapoints and timestamps for each data point\n",
    "- in machine learning, changes over time shows useful patterns in machine learning\n",
    "- a machine learning pipeline\n",
    "    - feature extraction\n",
    "    - model fitting\n",
    "    - prediction and validation\n",
    "___"
   ]
  },
  {
   "cell_type": "code",
   "execution_count": null,
   "outputs": [],
   "source": [
    "#Plotting a time series (I)\n",
    "\n",
    "#In this exercise, you'll practice plotting the values of two time\n",
    "#series without the time component.\n",
    "\n",
    "#Two DataFrames, data and data2 are available in your workspace.\n",
    "\n",
    "#Unless otherwise noted, assume that all required packages are loaded\n",
    "#with their common aliases throughout this course.\n",
    "\n",
    "#Note: This course assumes some familiarity with time series data,\n",
    "#as well as how to use them in data analytics pipelines. For an\n",
    "#introduction to time series, we recommend the Introduction to Time\n",
    "#Series Analysis in Python and Visualizing Time Series Data with Python\n",
    "#courses.\n",
    "\n",
    "# Print the first 5 rows of data\n",
    "#print(data.head())\n",
    "\n",
    "#################################################\n",
    "#<script.py> output:\n",
    "#    symbol  data_values\n",
    "#    0        214.009998\n",
    "#    1        214.379993\n",
    "#    2        210.969995\n",
    "#    3        210.580000\n",
    "#    4        211.980005\n",
    "#################################################\n",
    "\n",
    "# Print the first 5 rows of data2\n",
    "#print(data2.head())\n",
    "\n",
    "#################################################\n",
    "#<script.py> output:\n",
    "#       data_values\n",
    "#    0    -0.006928\n",
    "#    1    -0.007929\n",
    "#    2    -0.008900\n",
    "#    3    -0.009815\n",
    "#    4    -0.010653\n",
    "#################################################\n",
    "\n",
    "# Plot the time series in each dataset\n",
    "#fig, axs = plt.subplots(2, 1, figsize=(5, 10))\n",
    "#data.iloc[:1000].plot(y=\"data_values\", ax=axs[0])\n",
    "#data2.iloc[:1000].plot(y=\"data_values\", ax=axs[1])\n",
    "#plt.show()"
   ],
   "metadata": {
    "collapsed": false,
    "pycharm": {
     "name": "#%%\n"
    }
   }
  },
  {
   "cell_type": "markdown",
   "source": [
    "![_images/15.1.svg](_images/15.1.svg)"
   ],
   "metadata": {
    "collapsed": false
   }
  },
  {
   "cell_type": "code",
   "execution_count": null,
   "outputs": [],
   "source": [
    "#Plotting a time series (II)\n",
    "\n",
    "#You'll now plot both the datasets again, but with the included time\n",
    "#stamps for each (stored in the column called \"time\"). Let's see if\n",
    "#this gives you some more context for understanding each time series\n",
    "#data.\n",
    "\n",
    "# Plot the time series in each dataset\n",
    "#fig, axs = plt.subplots(2, 1, figsize=(5, 10))\n",
    "#data.iloc[:1000].plot(x=\"time\", y=\"data_values\", ax=axs[0])\n",
    "#data2.iloc[:1000].plot(x=\"time\", y=\"data_values\", ax=axs[1])\n",
    "#plt.show()"
   ],
   "metadata": {
    "collapsed": false,
    "pycharm": {
     "name": "#%%\n"
    }
   }
  },
  {
   "cell_type": "markdown",
   "source": [
    "![_images/15.2.svg](_images/15.2.svg)\n",
    "As you can now see, each time series has a very different sampling\n",
    "frequency (the amount of time between samples). The first is daily\n",
    "stock market data, and the second is an audio waveform."
   ],
   "metadata": {
    "collapsed": false
   }
  },
  {
   "cell_type": "markdown",
   "source": [
    "**Machine learning basics**\n",
    "___\n",
    "- always begin by looking at your data\n",
    "- scikit-learn data needs to be 2 dimensional\n",
    "    - (samples, features)\n",
    "___"
   ],
   "metadata": {
    "collapsed": false
   }
  },
  {
   "cell_type": "code",
   "execution_count": null,
   "outputs": [],
   "source": [
    "#Fitting a simple model: classification\n",
    "\n",
    "#In this exercise, you'll use the iris dataset (representing petal\n",
    "#characteristics of a number of flowers) to practice using the\n",
    "#scikit-learn API to fit a classification model. You can see a sample\n",
    "#plot of the data below.\n",
    "\n",
    "#Note: This course assumes some familiarity with Machine Learning\n",
    "#and scikit-learn. For an introduction to scikit-learn, we recommend\n",
    "#the Supervised Learning with Scikit-Learn and Preprocessing for\n",
    "#Machine Learning in Python courses."
   ],
   "metadata": {
    "collapsed": false,
    "pycharm": {
     "name": "#%%\n"
    }
   }
  },
  {
   "cell_type": "markdown",
   "source": [
    "![_images/15.3.svg](_images/15.3.svg)"
   ],
   "metadata": {
    "collapsed": false
   }
  },
  {
   "cell_type": "code",
   "execution_count": null,
   "outputs": [],
   "source": [
    "# Print the first 5 rows for inspection\n",
    "#print(data.head())\n",
    "\n",
    "#################################################\n",
    "#<script.py> output:\n",
    "#        sepal length (cm)  sepal width (cm)  petal length (cm)  petal width (cm)  \\\n",
    "#    50                7.0               3.2                4.7               1.4\n",
    "#    51                6.4               3.2                4.5               1.5\n",
    "#    52                6.9               3.1                4.9               1.5\n",
    "#    53                5.5               2.3                4.0               1.3\n",
    "#    54                6.5               2.8                4.6               1.5\n",
    "#\n",
    "#        target\n",
    "#    50       1\n",
    "#    51       1\n",
    "#    52       1\n",
    "#    53       1\n",
    "#    54       1\n",
    "#################################################\n",
    "\n",
    "#from sklearn.svm import LinearSVC\n",
    "\n",
    "# Construct data for the model\n",
    "#X = data[['petal length (cm)', 'petal width (cm)']]\n",
    "#y = data[['target']]\n",
    "\n",
    "# Fit the model\n",
    "#model = LinearSVC()\n",
    "#model.fit(X, y)\n",
    "\n",
    "#################################################\n",
    "#You've successfully fit a classifier to predict flower type!"
   ],
   "metadata": {
    "collapsed": false,
    "pycharm": {
     "name": "#%%\n"
    }
   }
  },
  {
   "cell_type": "code",
   "execution_count": null,
   "outputs": [],
   "source": [
    "#Predicting using a classification model\n",
    "\n",
    "#Now that you have fit your classifier, let's use it to predict the\n",
    "#type of flower (or class) for some newly-collected flowers.\n",
    "\n",
    "#Information about petal width and length for several new flowers is\n",
    "#stored in the variable targets. Using the classifier you fit, you'll\n",
    "#predict the type of each flower.\n",
    "\n",
    "# Create input array\n",
    "#X_predict = targets[['petal length (cm)', 'petal width (cm)']]\n",
    "\n",
    "# Predict with the model\n",
    "#predictions = model.predict(X_predict)\n",
    "#print(predictions)\n",
    "\n",
    "# Visualize predictions and actual values\n",
    "#plt.scatter(X_predict['petal length (cm)'], X_predict['petal width (cm)'],\n",
    "#            c=predictions, cmap=plt.cm.coolwarm)\n",
    "#plt.title(\"Predicted class values\")\n",
    "#plt.show()\n",
    "\n",
    "#################################################\n",
    "#<script.py> output:\n",
    "#    [2 2 2 1 1 2 2 2 2 1 2 1 1 2 1 1 2 1 2 2]\n",
    "#################################################\n",
    "#Note that the output of your predictions are all integers,\n",
    "#representing that datapoint's predicted class."
   ],
   "metadata": {
    "collapsed": false,
    "pycharm": {
     "name": "#%%\n"
    }
   }
  },
  {
   "cell_type": "markdown",
   "source": [
    "![_images/15.4.svg](_images/15.4.svg)"
   ],
   "metadata": {
    "collapsed": false
   }
  },
  {
   "cell_type": "code",
   "execution_count": null,
   "outputs": [],
   "source": [
    "#Fitting a simple model: regression\n",
    "\n",
    "#In this exercise, you'll practice fitting a regression model using\n",
    "#data from the Boston housing market. A DataFrame called boston is\n",
    "#available in your workspace. It contains many variables of data\n",
    "#(stored as columns). Can you find a relationship between the\n",
    "#following two variables?\n",
    "\n",
    "#\"AGE\": proportion of owner-occupied units built prior to 1940\n",
    "#\"RM\" : average number of rooms per dwelling"
   ],
   "metadata": {
    "collapsed": false,
    "pycharm": {
     "name": "#%%\n"
    }
   }
  },
  {
   "cell_type": "markdown",
   "source": [
    "![_images/15.5.svg](_images/15.5.svg)"
   ],
   "metadata": {
    "collapsed": false
   }
  },
  {
   "cell_type": "code",
   "execution_count": null,
   "outputs": [],
   "source": [
    "#from sklearn import linear_model\n",
    "\n",
    "# Prepare input and output DataFrames\n",
    "#X = boston[['AGE']]\n",
    "#y = boston[['RM']]\n",
    "\n",
    "# Fit the model\n",
    "#model = linear_model.LinearRegression()\n",
    "#model.fit(X, y)\n",
    "\n",
    "#################################################\n",
    "# In regression, the output of your model is a continuous array of\n",
    "#numbers, not class identity."
   ],
   "metadata": {
    "collapsed": false,
    "pycharm": {
     "name": "#%%\n"
    }
   }
  },
  {
   "cell_type": "code",
   "execution_count": null,
   "outputs": [],
   "source": [
    "#Predicting using a regression model\n",
    "\n",
    "#Now that you've fit a model with the Boston housing data, lets see\n",
    "#what predictions it generates on some new data. You can investigate\n",
    "#the underlying relationship that the model has found between inputs\n",
    "#and outputs by feeding in a range of numbers as inputs and seeing\n",
    "#what the model predicts for each input.\n",
    "\n",
    "#A 1-D array new_inputs consisting of 100 \"new\" values for \"AGE\"\n",
    "#(proportion of owner-occupied units built prior to 1940) is\n",
    "#available in your workspace along with the model you fit in the\n",
    "#previous exercise.\n",
    "\n",
    "# Generate predictions with the model using those inputs\n",
    "#predictions = model.predict(new_inputs.reshape(-1, 1))\n",
    "\n",
    "# Visualize the inputs and predicted values\n",
    "#plt.scatter(new_inputs, predictions, color='r', s=3)\n",
    "#plt.xlabel('inputs')\n",
    "#plt.ylabel('predictions')\n",
    "#plt.show()"
   ],
   "metadata": {
    "collapsed": false,
    "pycharm": {
     "name": "#%%\n"
    }
   }
  },
  {
   "cell_type": "markdown",
   "source": [
    "![_images/15.6.svg](_images/15.6.svg)\n",
    "Here the red line shows the relationship that your model found. As\n",
    "the proportion of pre-1940s houses gets larger, the average number\n",
    "of rooms gets slightly lower."
   ],
   "metadata": {
    "collapsed": false
   }
  },
  {
   "cell_type": "markdown",
   "source": [
    "**Machine learning and time series data**\n",
    "___\n",
    "- using audio data of heart sounds to detect who has a heart condition\n",
    "- using new york stock exchange data to detect patterns in historical records that allow us to predict the value of companies in the future\n",
    "___"
   ],
   "metadata": {
    "collapsed": false
   }
  },
  {
   "cell_type": "code",
   "execution_count": null,
   "outputs": [],
   "source": [
    "#Inspecting the classification data\n",
    "\n",
    "#In these final exercises of this chapter, you'll explore the two\n",
    "#datasets you'll use in this course.\n",
    "\n",
    "#The first is a collection of heartbeat sounds. Hearts normally have\n",
    "#a predictable sound pattern as they beat, but some disorders can\n",
    "#cause the heart to beat abnormally. This dataset contains a training\n",
    "#set with labels for each type of heartbeat, and a testing set with no\n",
    "#labels. You'll use the testing set to validate your models.\n",
    "\n",
    "#As you have labeled data, this dataset is ideal for classification.\n",
    "#In fact, it was originally offered as a part of a public Kaggle\n",
    "#competition. https://www.kaggle.com/kinguistics/heartbeat-sounds\n",
    "\n",
    "#import librosa as lr\n",
    "#from glob import glob\n",
    "\n",
    "# List all the wav files in the folder\n",
    "#audio_files = glob(data_dir + '/*.wav')\n",
    "\n",
    "# Read in the first audio file, create the time array\n",
    "#audio, sfreq = lr.load(audio_files[0])\n",
    "#time = np.arange(0, len(audio)) / sfreq\n",
    "\n",
    "# Plot audio over time\n",
    "#fig, ax = plt.subplots()\n",
    "#ax.plot(time, audio)\n",
    "#ax.set(xlabel='Time (s)', ylabel='Sound Amplitude')\n",
    "#plt.show()"
   ],
   "metadata": {
    "collapsed": false,
    "pycharm": {
     "name": "#%%\n"
    }
   }
  },
  {
   "cell_type": "markdown",
   "source": [
    "![_images/15.7.svg](_images/15.7.svg)\n",
    "There are several seconds of heartbeat sounds in here, though note\n",
    "that most of this time is silence. A common procedure in machine\n",
    "learning is to separate the datapoints with lots of stuff happening\n",
    "from the ones that don't."
   ],
   "metadata": {
    "collapsed": false
   }
  },
  {
   "cell_type": "code",
   "execution_count": null,
   "outputs": [],
   "source": [
    "#Inspecting the regression data\n",
    "\n",
    "#The next dataset contains information about company market value\n",
    "#over several years of time. This is one of the most popular kind\n",
    "#of time series data used for regression. If you can model the value\n",
    "#of a company as it changes over time, you can make predictions about\n",
    "#where that company will be in the future. This dataset was also\n",
    "#originally provided as part of a public Kaggle competition.\n",
    "#https://www.kaggle.com/dgawlik/nyse\n",
    "\n",
    "#In this exercise, you'll plot the time series for a number of\n",
    "#companies to get an understanding of how they are (or aren't)\n",
    "#related to one another.\n",
    "\n",
    "# Read in the data\n",
    "#data = pd.read_csv('prices.csv', index_col=0)\n",
    "\n",
    "# Convert the index of the DataFrame to datetime\n",
    "#data.index = pd.to_datetime(data.index)\n",
    "#print(data.head())\n",
    "\n",
    "# Loop through each column, plot its values over time\n",
    "#fig, ax = plt.subplots()\n",
    "#for column in data.columns:\n",
    "#    data[column].plot(ax=ax, label=column)\n",
    "#ax.legend()\n",
    "#plt.show()\n",
    "\n",
    "#################################################\n",
    "#<script.py> output:\n",
    "#                      AAPL  FB       NFLX          V        XOM\n",
    "#    time\n",
    "#    2010-01-04  214.009998 NaN  53.479999  88.139999  69.150002\n",
    "#    2010-01-05  214.379993 NaN  51.510001  87.129997  69.419998\n",
    "#    2010-01-06  210.969995 NaN  53.319999  85.959999  70.019997\n",
    "#    2010-01-07  210.580000 NaN  52.400001  86.760002  69.800003\n",
    "#    2010-01-08  211.980005 NaN  53.300002  87.000000  69.519997\n",
    "#################################################"
   ],
   "metadata": {
    "collapsed": false,
    "pycharm": {
     "name": "#%%\n"
    }
   }
  },
  {
   "cell_type": "markdown",
   "source": [
    "![_images/15.8.svg](_images/15.8.svg)\n",
    "Note that each company's value is sometimes correlated with others,\n",
    "and sometimes not. Also note there are a lot of 'jumps' in there -\n",
    "what effect do you think these jumps would have on a predictive model?"
   ],
   "metadata": {
    "collapsed": false
   }
  }
 ],
 "metadata": {
  "kernelspec": {
   "display_name": "Python 3",
   "language": "python",
   "name": "python3"
  },
  "language_info": {
   "codemirror_mode": {
    "name": "ipython",
    "version": 2
   },
   "file_extension": ".py",
   "mimetype": "text/x-python",
   "name": "python",
   "nbconvert_exporter": "python",
   "pygments_lexer": "ipython2",
   "version": "2.7.6"
  }
 },
 "nbformat": 4,
 "nbformat_minor": 0
}