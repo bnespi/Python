{
 "cells": [
  {
   "cell_type": "markdown",
   "metadata": {
    "collapsed": true,
    "pycharm": {
     "name": "#%% md\n"
    }
   },
   "source": [
    "**Introduction to model validation**\n",
    "___\n",
    "- What is model validation?\n",
    "    - Model validation consists of:\n",
    "        - ensuring your model performs as expected on new data\n",
    "        - testing model performance on holdout datasets\n",
    "        - selecting the best model, parameters, and accuracy metrics\n",
    "        - achieving the best accuracy for the data given\n",
    "- scikit-learn modeling review\n",
    "    - Basic modeling steps\n",
    "        - model = RandomForestRegressor(n_estimators=500, random_state=1111_\n",
    "        - model.fit(X=X_train, y=y_train)\n",
    "        - predictions = model.predict(X_test)\n",
    "        - print(\"{0:.2f}\".format(mae(y_true=y_test, y_pred=predictions)))\n",
    "            - e.g., \"10.84\"\n",
    "            - Mean Absolute Error\n",
    "                - (sum |y true - y pred|) / n\n",
    "- this course uses 538's ultimate Holloween Candy Power ranking dataset\n",
    "- Seen vs. unseen data\n",
    "    - training data = seen data\n",
    "    - testing data = unseen data\n",
    "___"
   ]
  },
  {
   "cell_type": "code",
   "execution_count": null,
   "outputs": [],
   "source": [],
   "metadata": {
    "collapsed": false,
    "pycharm": {
     "name": "#%%\n"
    }
   }
  }
 ],
 "metadata": {
  "kernelspec": {
   "display_name": "Python 3",
   "language": "python",
   "name": "python3"
  },
  "language_info": {
   "codemirror_mode": {
    "name": "ipython",
    "version": 2
   },
   "file_extension": ".py",
   "mimetype": "text/x-python",
   "name": "python",
   "nbconvert_exporter": "python",
   "pygments_lexer": "ipython2",
   "version": "2.7.6"
  }
 },
 "nbformat": 4,
 "nbformat_minor": 0
}