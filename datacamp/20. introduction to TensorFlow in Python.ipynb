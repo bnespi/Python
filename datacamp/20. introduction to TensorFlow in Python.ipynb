{
 "cells": [
  {
   "cell_type": "markdown",
   "metadata": {
    "collapsed": true,
    "pycharm": {
     "name": "#%% md\n"
    }
   },
   "source": [
    "**Constants and variables**\n",
    "___\n",
    "![_images/20.1.PNG](_images/20.1.PNG)\n",
    "- What is a tensor?\n",
    "    - generalization of vectors and matrices\n",
    "    - collection of numbers\n",
    "    - specific shape\n",
    "___"
   ]
  }
 ],
 "metadata": {
  "kernelspec": {
   "display_name": "Python 3",
   "language": "python",
   "name": "python3"
  },
  "language_info": {
   "codemirror_mode": {
    "name": "ipython",
    "version": 2
   },
   "file_extension": ".py",
   "mimetype": "text/x-python",
   "name": "python",
   "nbconvert_exporter": "python",
   "pygments_lexer": "ipython2",
   "version": "2.7.6"
  }
 },
 "nbformat": 4,
 "nbformat_minor": 0
}