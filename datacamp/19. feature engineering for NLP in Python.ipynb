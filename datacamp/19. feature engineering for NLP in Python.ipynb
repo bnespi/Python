{
 "cells": [
  {
   "cell_type": "markdown",
   "metadata": {
    "collapsed": true,
    "pycharm": {
     "name": "#%% md\n"
    }
   },
   "source": [
    "**Introduction to NLP feature engineering**\n",
    "___\n",
    "- concepts covered\n",
    "    - text preprocessing\n",
    "    - basic features\n",
    "    - word features\n",
    "    - vectorization\n",
    "___"
   ]
  },
  {
   "cell_type": "code",
   "execution_count": null,
   "outputs": [],
   "source": [
    "#One-hot encoding\n",
    "\n",
    "#In the previous exercise, we encountered a dataframe df1 which\n",
    "#contained categorical features and therefore, was unsuitable for\n",
    "#applying ML algorithms to.\n",
    "\n",
    "#In this exercise, your task is to convert df1 into a format that is\n",
    "#suitable for machine learning.\n",
    "\n",
    "# Print the features of df1\n",
    "#print(df1.columns)\n",
    "#################################################\n",
    "#<script.py> output:\n",
    "#    Index(['feature 1', 'feature 2', 'feature 3', 'feature 4', 'feature 5', 'label'], dtype='object')\n",
    "#################################################\n",
    "\n",
    "# Perform one-hot encoding\n",
    "#df1 = pd.get_dummies(df1, columns=['feature 5'])\n",
    "\n",
    "# Print the new features of df1\n",
    "#print(df1.columns)\n",
    "\n",
    "# Print first five rows of df1\n",
    "#print(df1.head())\n",
    "\n",
    "#################################################\n",
    "#Index(['feature 1', 'feature 2', 'feature 3', 'feature 4', 'label', 'feature 5_female', 'feature 5_male'], dtype='object')\n",
    "#       feature 1  feature 2  feature 3  feature 4  label  feature 5_female  feature 5_male\n",
    "#    0    29.0000          0          0   211.3375      1                 1               0\n",
    "#    1     0.9167          1          2   151.5500      1                 0               1\n",
    "#    2     2.0000          1          2   151.5500      0                 1               0\n",
    "#    3    30.0000          1          2   151.5500      0                 0               1\n",
    "#    4    25.0000          1          2   151.5500      0                 1               0\n",
    "#################################################\n",
    "#You have successfully performed one-hot encoding on this dataframe.\n",
    "#Notice how the feature 5 (which represents sex) gets converted to\n",
    "#two features feature 5_male and feature 5_female. With one-hot\n",
    "#encoding performed, df1 only contains numerical features and can\n",
    "#now be fed into any standard ML model!"
   ],
   "metadata": {
    "collapsed": false,
    "pycharm": {
     "name": "#%%\n"
    }
   }
  },
  {
   "cell_type": "markdown",
   "source": [
    "**Basic feature extraction**\n",
    "___\n",
    "- number of characters\n",
    "- number of words\n",
    "- average word length\n",
    "- special features\n",
    "    - e.g., number of hashtags in a tweet\n",
    "- other features\n",
    "    - number of sentences\n",
    "    - number of paragraphs\n",
    "    - words starting with an uppercase\n",
    "    - all-capital words\n",
    "    - numeric quantities\n",
    "___"
   ],
   "metadata": {
    "collapsed": false
   }
  },
  {
   "cell_type": "code",
   "execution_count": null,
   "outputs": [],
   "source": [
    "#Character count of Russian tweets\n",
    "\n",
    "#In this exercise, you have been given a dataframe tweets which\n",
    "#contains some tweets associated with Russia's Internet Research\n",
    "#Agency and compiled by FiveThirtyEight.\n",
    "\n",
    "#Your task is to create a new feature 'char_count' in tweets which\n",
    "#computes the number of characters for each tweet. Also, compute the\n",
    "#average length of each tweet. The tweets are available in the\n",
    "#content feature of tweets.\n",
    "\n",
    "# Create a feature char_count\n",
    "#tweets['char_count'] = tweets['content'].apply(len)\n",
    "\n",
    "# Print the average character count\n",
    "#print(tweets['char_count'].mean())\n",
    "\n",
    "#################################################\n",
    "#<script.py> output:\n",
    "#    103.462\n",
    "#################################################\n",
    "#Notice that the average character count of these tweets is\n",
    "#approximately 104, which is much higher than the overall average\n",
    "#tweet length of around 40 characters. Depending on what you're\n",
    "#working on, this may be something worth investigating into. For\n",
    "#your information, there is research that indicates that fake news\n",
    "#articles tend to have longer titles! Therefore, even extremely\n",
    "#basic features such as character counts can prove to be very useful\n",
    "#in certain applications."
   ],
   "metadata": {
    "collapsed": false,
    "pycharm": {
     "name": "#%%\n"
    }
   }
  },
  {
   "cell_type": "code",
   "execution_count": null,
   "outputs": [],
   "source": [
    "#Word count of TED talks\n",
    "\n",
    "#ted is a dataframe that contains the transcripts of 500 TED talks.\n",
    "#Your job is to compute a new feature word_count which contains the\n",
    "#approximate number of words for each talk. Consequently, you also\n",
    "#need to compute the average word count of the talks. The transcripts\n",
    "#are available as the transcript feature in ted.\n",
    "\n",
    "#In order to complete this task, you will need to define a function\n",
    "#count_words that takes in a string as an argument and returns the\n",
    "#number of words in the string. You will then need to apply this\n",
    "#function to the transcript feature of ted to create the new feature\n",
    "#word_count and compute its mean.\n",
    "\n",
    "# Function that returns number of words in a string\n",
    "#def count_words(string):\n",
    "\t# Split the string into words\n",
    "#    words = string.split()\n",
    "\n",
    "    # Return the number of words\n",
    "#    return len(words)\n",
    "\n",
    "# Create a new feature word_count\n",
    "#ted['word_count'] = ted['transcript'].apply(count_words)\n",
    "\n",
    "# Print the average word count of the talks\n",
    "#print(ted['word_count'].mean())\n",
    "\n",
    "#################################################\n",
    "#<script.py> output:\n",
    "#   1987.1\n",
    "#################################################\n",
    "#You now know how to compute the number of words in a given piece\n",
    "#of text. Also, notice that the average length of a talk is close\n",
    "#to 2000 words. You can use the word_count feature to compute its\n",
    "#correlation with other variables such as number of views, number\n",
    "#of comments, etc. and derive extremely interesting insights about\n",
    "#TED."
   ],
   "metadata": {
    "collapsed": false,
    "pycharm": {
     "name": "#%%\n"
    }
   }
  },
  {
   "cell_type": "code",
   "execution_count": null,
   "outputs": [],
   "source": [
    "#Hashtags and mentions in Russian tweets\n",
    "\n",
    "#Let's revisit the tweets dataframe containing the Russian tweets.\n",
    "#In this exercise, you will compute the number of hashtags and\n",
    "#mentions in each tweet by defining two functions count_hashtags()\n",
    "#and count_mentions() respectively and applying them to the content\n",
    "#feature of tweets.\n",
    "\n",
    "#In case you don't recall, the tweets are contained in the content\n",
    "#feature of tweets.\n",
    "\n",
    "# Function that returns numner of hashtags in a string\n",
    "#def count_hashtags(string):\n",
    "\t# Split the string into words\n",
    "#    words = string.split()\n",
    "\n",
    "    # Create a list of words that are hashtags\n",
    "#    hashtags = [word for word in words if word.startswith('#')]\n",
    "\n",
    "    # Return number of hashtags\n",
    "#    return(len(hashtags))\n",
    "\n",
    "# Create a feature hashtag_count and display distribution\n",
    "#tweets['hashtag_count'] = tweets['content'].apply(count_hashtags)\n",
    "#tweets['hashtag_count'].hist()\n",
    "#plt.title('Hashtag count distribution')\n",
    "#plt.show()"
   ],
   "metadata": {
    "collapsed": false,
    "pycharm": {
     "name": "#%%\n"
    }
   }
  },
  {
   "cell_type": "markdown",
   "source": [
    "![_images/19.1.svg](_images/19.1.svg)"
   ],
   "metadata": {
    "collapsed": false
   }
  },
  {
   "cell_type": "code",
   "execution_count": null,
   "outputs": [],
   "source": [
    "# Function that returns number of mentions in a string\n",
    "#def count_mentions(string):\n",
    "\t# Split the string into words\n",
    "#    words = string.split()\n",
    "\n",
    "    # Create a list of words that are mentions\n",
    "#    mentions = [word for word in words if word.startswith('@')]\n",
    "\n",
    "    # Return number of mentions\n",
    "#    return(len(mentions))\n",
    "\n",
    "# Create a feature mention_count and display distribution\n",
    "#tweets['mention_count'] = tweets['content'].apply(count_mentions)\n",
    "#tweets['mention_count'].hist()\n",
    "#plt.title('Mention count distribution')\n",
    "#plt.show()"
   ],
   "metadata": {
    "collapsed": false,
    "pycharm": {
     "name": "#%%\n"
    }
   }
  },
  {
   "cell_type": "markdown",
   "source": [
    "![_images/19.2.svg](_images/19.2.svg)\n",
    "You now have a good grasp of how to compute various types of\n",
    "summary features. In the next lesson, we will learn about more\n",
    "advanced features that are capable of capturing more nuanced\n",
    "information beyond simple word and character counts."
   ],
   "metadata": {
    "collapsed": false
   }
  },
  {
   "cell_type": "markdown",
   "source": [
    "**Readability tests**\n",
    "___\n",
    "- overview of readability tests\n",
    "    - determine readability of an English passage\n",
    "    - scale ranging from primary school up to college graduate level\n",
    "    - a mathematical formula utilizing word, syllable, and sentence count\n",
    "    - used in fake news and opinion spam detection\n",
    "- readability text examples\n",
    "    - **Flesch reading ease**\n",
    "        - greater the average sentence length, harder text is to read\n",
    "        - greater the average number of syllables in a word, harder the text is to read\n",
    "        - higher the score, greater the readability\n",
    "        ![_images/19.1.PNG](_images/19.1.PNG)\n",
    "    - **Gunning fog index**\n",
    "        - developed in 1954\n",
    "        - also dependent on average sentence length\n",
    "        - greater the percentage of complex words, harder the text is to read\n",
    "        - higher the index, lesser the readability\n",
    "        ![_images/19.2.PNG](_images/19.2.PNG)\n",
    "    - Simple Measure of Gobbledygook (SMOG)\n",
    "    - Dale-Chall score\n",
    "- the textatistic library\n",
    "    - not available for Anaconda/Windows\n",
    "    - requires pip install (5GB Visual C++ build tools requirement)\n",
    "___"
   ],
   "metadata": {
    "collapsed": false
   }
  },
  {
   "cell_type": "code",
   "execution_count": 1,
   "outputs": [
    {
     "name": "stdout",
     "output_type": "stream",
     "text": [
      "The Flesch Reading Ease is 81.67\n"
     ]
    }
   ],
   "source": [
    "#Readability of 'The Myth of Sisyphus'\n",
    "\n",
    "#In this exercise, you will compute the Flesch reading ease score\n",
    "#for Albert Camus' famous essay The Myth of Sisyphus. We will then\n",
    "#interpret the value of this score as explained in the video and\n",
    "#try to determine the reading level of the essay.\n",
    "\n",
    "#The entire essay is in the form of a string and is available as\n",
    "#sisyphus_essay.\n",
    "\n",
    "sisyphus_essay = '\\nThe gods had condemned Sisyphus to ceaselessly rolling a rock to the top of a mountain, whence the stone would fall back of its own weight. They had thought with some reason that there is no more dreadful punishment than futile and hopeless labor. If one believes Homer, Sisyphus was the wisest and most prudent of mortals. According to another tradition, however, he was disposed to practice the profession of highwayman. I see no contradiction in this. Opinions differ as to the reasons why he became the futile laborer of the underworld. To begin with, he is accused of a certain levity in regard to the gods. He stole their secrets. Egina, the daughter of Esopus, was carried off by Jupiter. The father was shocked by that disappearance and complained to Sisyphus. He, who knew of the abduction, offered to tell about it on condition that Esopus would give water to the citadel of Corinth. To the celestial thunderbolts he preferred the benediction of water. He was punished for this in the underworld. Homer tells us also that Sisyphus had put Death in chains. Pluto could not endure the sight of his deserted, silent empire. He dispatched the god of war, who liberated Death from the hands of her conqueror. It is said that Sisyphus, being near to death, rashly wanted to test his wife\\'s love. He ordered her to cast his unburied body into the middle of the public square. Sisyphus woke up in the underworld. And there, annoyed by an obedience so contrary to human love, he obtained from Pluto permission to return to earth in order to chastise his wife. But when he had seen again the face of this world, enjoyed water and sun, warm stones and the sea, he no longer wanted to go back to the infernal darkness. Recalls, signs of anger, warnings were of no avail. Many years more he lived facing the curve of the gulf, the sparkling sea, and the smiles of earth. A decree of the gods was necessary. Mercury came and seized the impudent man by the collar and, snatching him from his joys, lead him forcibly back to the underworld, where his rock was ready for him. You have already grasped that Sisyphus is the absurd hero. He is, as much through his passions as through his torture. His scorn of the gods, his hatred of death, and his passion for life won him that unspeakable penalty in which the whole being is exerted toward accomplishing nothing. This is the price that must be paid for the passions of this earth. Nothing is told us about Sisyphus in the underworld. Myths are made for the imagination to breathe life into them. As for this myth, one sees merely the whole effort of a body straining to raise the huge stone, to roll it, and push it up a slope a hundred times over; one sees the face screwed up, the cheek tight against the stone, the shoulder bracing the clay-covered mass, the foot wedging it, the fresh start with arms outstretched, the wholly human security of two earth-clotted hands. At the very end of his long effort measured by skyless space and time without depth, the purpose is achieved. Then Sisyphus watches the stone rush down in a few moments toward tlower world whence he will have to push it up again toward the summit. He goes back down to the plain. It is during that return, that pause, that Sisyphus interests me. A face that toils so close to stones is already stone itself! I see that man going back down with a heavy yet measured step toward the torment of which he will never know the end. That hour like a breathing-space which returns as surely as his suffering, that is the hour of consciousness. At each of those moments when he leaves the heights and gradually sinks toward the lairs of the gods, he is superior to his fate. He is stronger than his rock. If this myth is tragic, that is because its hero is conscious. Where would his torture be, indeed, if at every step the hope of succeeding upheld him? The workman of today works everyday in his life at the same tasks, and his fate is no less absurd. But it is tragic only at the rare moments when it becomes conscious. Sisyphus, proletarian of the gods, powerless and rebellious, knows the whole extent of his wretched condition: it is what he thinks of during his descent. The lucidity that was to constitute his torture at the same time crowns his victory. There is no fate that can not be surmounted by scorn. If the descent is thus sometimes performed in sorrow, it can also take place in joy. This word is not too much. Again I fancy Sisyphus returning toward his rock, and the sorrow was in the beginning. When the images of earth cling too tightly to memory, when the call of happiness becomes too insistent, it happens that melancholy arises in man\\'s heart: this is the rock\\'s victory, this is the rock itself. The boundless grief is too heavy to bear. These are our nights of Gethsemane. But crushing truths perish from being acknowledged. Thus, Edipus at the outset obeys fate without knowing it. But from the moment he knows, his tragedy begins. Yet at the same moment, blind and desperate, he realizes that the only bond linking him to the world is the cool hand of a girl. Then a tremendous remark rings out: \"Despite so many ordeals, my advanced age and the nobility of my soul make me conclude that all is well.\" Sophocles\\' Edipus, like Dostoevsky\\'s Kirilov, thus gives the recipe for the absurd victory. Ancient wisdom confirms modern heroism. One does not discover the absurd without being tempted to write a manual of happiness. \"What!---by such narrow ways--?\" There is but one world, however. Happiness and the absurd are two sons of the same earth. They are inseparable. It would be a mistake to say that happiness necessarily springs from the absurd. Discovery. It happens as well that the felling of the absurd springs from happiness. \"I conclude that all is well,\" says Edipus, and that remark is sacred. It echoes in the wild and limited universe of man. It teaches that all is not, has not been, exhausted. It drives out of this world a god who had come into it with dissatisfaction and a preference for futile suffering. It makes of fate a human matter, which must be settled among men. All Sisyphus\\' silent joy is contained therein. His fate belongs to him. His rock is a thing. Likewise, the absurd man, when he contemplates his torment, silences all the idols. In the universe suddenly restored to its silence, the myriad wondering little voices of the earth rise up. Unconscious, secret calls, invitations from all the faces, they are the necessary reverse and price of victory. There is no sun without shadow, and it is essential to know the night. The absurd man says yes and his efforts will henceforth be unceasing. If there is a personal fate, there is no higher destiny, or at least there is, but one which he concludes is inevitable and despicable. For the rest, he knows himself to be the master of his days. At that subtle moment when man glances backward over his life, Sisyphus returning toward his rock, in that slight pivoting he contemplates that series of unrelated actions which become his fate, created by him, combined under his memory\\'s eye and soon sealed by his death. Thus, convinced of the wholly human origin of all that is human, a blind man eager to see who knows that the night has no end, he is still on the go. The rock is still rolling. I leave Sisyphus at the foot of the mountain! One always finds one\\'s burden again. But Sisyphus teaches the higher fidelity that negates the gods and raises rocks. He too concludes that all is well. This universe henceforth without a master seems to him neither sterile nor futile. Each atom of that stone, each mineral flake of that night filled mountain, in itself forms a world. The struggle itself toward the heights is enough to fill a man\\'s heart. One must imagine Sisyphus happy.\\n'\n",
    "\n",
    "# Import Textatistic\n",
    "from textatistic import Textatistic\n",
    "\n",
    "# Compute the readability scores\n",
    "readability_scores = Textatistic(sisyphus_essay).scores\n",
    "\n",
    "# Print the flesch reading ease score\n",
    "flesch = readability_scores['flesch_score']\n",
    "print(\"The Flesch Reading Ease is %.2f\" % (flesch))\n",
    "\n",
    "#################################################\n",
    "#You now know to compute the Flesch reading ease score for a\n",
    "#given body of text. Notice that the score for this essay is\n",
    "#approximately 81.67. This indicates that the essay is at the\n",
    "#readability level of a 6th grade American student."
   ],
   "metadata": {
    "collapsed": false,
    "pycharm": {
     "name": "#%%\n"
    }
   }
  },
  {
   "cell_type": "code",
   "execution_count": 2,
   "outputs": [
    {
     "name": "stdout",
     "output_type": "stream",
     "text": [
      "[14.436002482929858, 20.735401069518716, 11.085587583148559, 5.926785009861934]\n"
     ]
    }
   ],
   "source": [
    "#Readability of various publications\n",
    "\n",
    "#In this exercise, you have been given excerpts of articles from\n",
    "#four publications. Your task is to compute the readability of these\n",
    "#excerpts using the Gunning fog index and consequently, determine\n",
    "#the relative difficulty of reading these publications.\n",
    "\n",
    "#The excerpts are available as the following strings:\n",
    "\n",
    "#forbes- An excerpt from an article from Forbes magazine on the\n",
    "#Chinese social credit score system.\n",
    "\n",
    "#harvard_law- An excerpt from a book review published in Harvard\n",
    "#Law Review.\n",
    "\n",
    "#r_digest- An excerpt from a Reader's Digest article on flight\n",
    "#turbulence.\n",
    "\n",
    "#time_kids - An excerpt from an article on the ill effects of salt\n",
    "#consumption published in TIME for Kids.\n",
    "\n",
    "forbes = '\\nThe idea is to create more transparency about companies and individuals that are breaking the law or are non-compliant with official obligations and incentivize the right behaviors with the overall goal of improving governance and market order. The Chinese Communist Party intends the social credit score system to “allow the trustworthy to roam freely under heaven while making it hard for the discredited to take a single step.” Even though the system is still under development it currently plays out in real life in myriad ways for private citizens, businesses and government officials. Generally, higher credit scores give people a variety of advantages. Individuals are often given perks such as discounted energy bills and access or better visibility on dating websites. Often, those with higher social credit scores are able to forgo deposits on rental properties, bicycles, and umbrellas. They can even get better travel deals. In addition, Chinese hospitals are currently experimenting with social credit scores. A social credit score above 650 at one hospital allows an individual to see a doctor without lining up to pay.\\n'\n",
    "harvard_law = '\\nIn his important new book, The Schoolhouse Gate: Public Education, the Supreme Court, and the Battle for the American Mind, Professor Justin Driver reminds us that private controversies that arise within the confines of public schools are part of a broader historical arc — one that tracks a range of cultural and intellectual flashpoints in U.S. history. Moreover, Driver explains, these tensions are reflected in constitutional law, and indeed in the history and jurisprudence of the Supreme Court. As such, debates that arise in the context of public education are not simply about the conflict between academic freedom, public safety, and student rights. They mirror our persistent struggle to reconcile our interest in fostering a pluralistic society, rooted in the ideal of individual autonomy, with our desire to cultivate a sense of national unity and shared identity (or, put differently, our effort to reconcile our desire to forge common norms of citizenship with our fear of state indoctrination and overencroachment). In this regard, these debates reflect the unique role that both the school and the courts have played in defining and enforcing the boundaries of American citizenship. \\n'\n",
    "r_digest = '\\nThis week 30 passengers were reportedly injured when a Turkish Airlines flight landing at John F. Kennedy International Airport encountered turbulent conditions. Injuries included bruises, bloody noses, and broken bones. In mid-February, a Delta Airlines flight made an emergency landing to assist three passengers in getting to the nearest hospital after some sudden and unexpected turbulence. Doctors treated 15 passengers after a flight from Miami to Buenos Aires last October for everything from severe bruising to nosebleeds after the plane caught some rough winds over Brazil. In 2016, 23 passengers were injured on a United Airlines flight after severe turbulence threw people into the cabin ceiling. The list goes on. Turbulence has been become increasingly common, with painful outcomes for those on board. And more costly to the airlines, too. Forbes estimates that the cost of turbulence has risen to over $500 million each year in damages and delays. And there are no signs the increase in turbulence will be stopping anytime soon.\\n'\n",
    "time_kids = '\\nThat, of course, is easier said than done. The more you eat salty foods, the more you develop a taste for them. The key to changing your diet is to start small. “Small changes in sodium in foods are not usually noticed,” Quader says. Eventually, she adds, the effort will reset a kid’s taste buds so the salt cravings stop. Bridget Murphy is a dietitian at New York University’s Langone Medical Center. She suggests kids try adding spices to their food instead of salt. Eating fruits and veggies and cutting back on packaged foods will also help. Need a little inspiration? Murphy offers this tip: Focus on the immediate effects of a diet that is high in sodium. High blood pressure can make it difficult to be active. “Do you want to be able to think clearly and perform well in school?” she asks. “If you’re an athlete, do you want to run faster?” If you answered yes to these questions, then it’s time to shake the salt habit.\\n'\n",
    "\n",
    "\n",
    "# Import Textatistic\n",
    "from textatistic import Textatistic\n",
    "\n",
    "# List of excerpts\n",
    "excerpts = [forbes, harvard_law, r_digest, time_kids]\n",
    "\n",
    "# Loop through excerpts and compute gunning fog index\n",
    "gunning_fog_scores = []\n",
    "for excerpt in excerpts:\n",
    "  readability_scores = Textatistic(excerpt).scores\n",
    "  gunning_fog = readability_scores['gunningfog_score']\n",
    "  gunning_fog_scores.append(gunning_fog)\n",
    "\n",
    "# Print the gunning fog indices\n",
    "print(gunning_fog_scores)\n",
    "\n",
    "#################################################\n",
    "#You are now adept at computing readability scores for various\n",
    "#pieces of text. Notice that the Harvard Law Review excerpt has\n",
    "#the highest Gunning fog index; indicating that it can be \n",
    "#comprehended only by readers who have graduated college. On the\n",
    "#other hand, the Time for Kids article, intended for children, has\n",
    "#a much lower fog index and can be comprehended by 5th grade students."
   ],
   "metadata": {
    "collapsed": false,
    "pycharm": {
     "name": "#%%\n"
    }
   }
  }
 ],
 "metadata": {
  "kernelspec": {
   "display_name": "Python 3",
   "language": "python",
   "name": "python3"
  },
  "language_info": {
   "codemirror_mode": {
    "name": "ipython",
    "version": 2
   },
   "file_extension": ".py",
   "mimetype": "text/x-python",
   "name": "python",
   "nbconvert_exporter": "python",
   "pygments_lexer": "ipython2",
   "version": "2.7.6"
  }
 },
 "nbformat": 4,
 "nbformat_minor": 0
}