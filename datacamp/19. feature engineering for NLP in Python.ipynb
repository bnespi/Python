{
 "cells": [
  {
   "cell_type": "markdown",
   "metadata": {
    "collapsed": true,
    "pycharm": {
     "name": "#%% md\n"
    }
   },
   "source": [
    "**Introduction to NLP feature engineering**\n",
    "___\n",
    "- concepts covered\n",
    "    - text preprocessing\n",
    "    - basic features\n",
    "    - word features\n",
    "    - vectorization\n",
    "___"
   ]
  },
  {
   "cell_type": "code",
   "execution_count": null,
   "outputs": [],
   "source": [
    "#One-hot encoding\n",
    "\n",
    "#In the previous exercise, we encountered a dataframe df1 which\n",
    "#contained categorical features and therefore, was unsuitable for\n",
    "#applying ML algorithms to.\n",
    "\n",
    "#In this exercise, your task is to convert df1 into a format that is\n",
    "#suitable for machine learning.\n",
    "\n",
    "# Print the features of df1\n",
    "#print(df1.columns)\n",
    "#################################################\n",
    "#<script.py> output:\n",
    "#    Index(['feature 1', 'feature 2', 'feature 3', 'feature 4', 'feature 5', 'label'], dtype='object')\n",
    "#################################################\n",
    "\n",
    "# Perform one-hot encoding\n",
    "#df1 = pd.get_dummies(df1, columns=['feature 5'])\n",
    "\n",
    "# Print the new features of df1\n",
    "#print(df1.columns)\n",
    "\n",
    "# Print first five rows of df1\n",
    "#print(df1.head())\n",
    "\n",
    "#################################################\n",
    "#Index(['feature 1', 'feature 2', 'feature 3', 'feature 4', 'label', 'feature 5_female', 'feature 5_male'], dtype='object')\n",
    "#       feature 1  feature 2  feature 3  feature 4  label  feature 5_female  feature 5_male\n",
    "#    0    29.0000          0          0   211.3375      1                 1               0\n",
    "#    1     0.9167          1          2   151.5500      1                 0               1\n",
    "#    2     2.0000          1          2   151.5500      0                 1               0\n",
    "#    3    30.0000          1          2   151.5500      0                 0               1\n",
    "#    4    25.0000          1          2   151.5500      0                 1               0\n",
    "#################################################\n",
    "#You have successfully performed one-hot encoding on this dataframe.\n",
    "#Notice how the feature 5 (which represents sex) gets converted to\n",
    "#two features feature 5_male and feature 5_female. With one-hot\n",
    "#encoding performed, df1 only contains numerical features and can\n",
    "#now be fed into any standard ML model!"
   ],
   "metadata": {
    "collapsed": false,
    "pycharm": {
     "name": "#%%\n"
    }
   }
  },
  {
   "cell_type": "markdown",
   "source": [
    "**Basic feature extraction**\n",
    "___\n",
    "- number of characters\n",
    "- number of words\n",
    "- average word length\n",
    "- special features\n",
    "    - e.g., number of hashtags in a tweet\n",
    "- other features\n",
    "    - number of sentences\n",
    "    - number of paragraphs\n",
    "    - words starting with an uppercase\n",
    "    - all-capital words\n",
    "    - numeric quantities\n",
    "___"
   ],
   "metadata": {
    "collapsed": false
   }
  },
  {
   "cell_type": "code",
   "execution_count": null,
   "outputs": [],
   "source": [
    "#Character count of Russian tweets\n",
    "\n",
    "#In this exercise, you have been given a dataframe tweets which\n",
    "#contains some tweets associated with Russia's Internet Research\n",
    "#Agency and compiled by FiveThirtyEight.\n",
    "\n",
    "#Your task is to create a new feature 'char_count' in tweets which\n",
    "#computes the number of characters for each tweet. Also, compute the\n",
    "#average length of each tweet. The tweets are available in the\n",
    "#content feature of tweets.\n",
    "\n",
    "# Create a feature char_count\n",
    "#tweets['char_count'] = tweets['content'].apply(len)\n",
    "\n",
    "# Print the average character count\n",
    "#print(tweets['char_count'].mean())\n",
    "\n",
    "#################################################\n",
    "#<script.py> output:\n",
    "#    103.462\n",
    "#################################################\n",
    "#Notice that the average character count of these tweets is\n",
    "#approximately 104, which is much higher than the overall average\n",
    "#tweet length of around 40 characters. Depending on what you're\n",
    "#working on, this may be something worth investigating into. For\n",
    "#your information, there is research that indicates that fake news\n",
    "#articles tend to have longer titles! Therefore, even extremely\n",
    "#basic features such as character counts can prove to be very useful\n",
    "#in certain applications."
   ],
   "metadata": {
    "collapsed": false,
    "pycharm": {
     "name": "#%%\n"
    }
   }
  },
  {
   "cell_type": "code",
   "execution_count": null,
   "outputs": [],
   "source": [
    "#Word count of TED talks\n",
    "\n",
    "#ted is a dataframe that contains the transcripts of 500 TED talks.\n",
    "#Your job is to compute a new feature word_count which contains the\n",
    "#approximate number of words for each talk. Consequently, you also\n",
    "#need to compute the average word count of the talks. The transcripts\n",
    "#are available as the transcript feature in ted.\n",
    "\n",
    "#In order to complete this task, you will need to define a function\n",
    "#count_words that takes in a string as an argument and returns the\n",
    "#number of words in the string. You will then need to apply this\n",
    "#function to the transcript feature of ted to create the new feature\n",
    "#word_count and compute its mean.\n",
    "\n",
    "# Function that returns number of words in a string\n",
    "#def count_words(string):\n",
    "\t# Split the string into words\n",
    "#    words = string.split()\n",
    "\n",
    "    # Return the number of words\n",
    "#    return len(words)\n",
    "\n",
    "# Create a new feature word_count\n",
    "#ted['word_count'] = ted['transcript'].apply(count_words)\n",
    "\n",
    "# Print the average word count of the talks\n",
    "#print(ted['word_count'].mean())\n",
    "\n",
    "#################################################\n",
    "#<script.py> output:\n",
    "#   1987.1\n",
    "#################################################\n",
    "#You now know how to compute the number of words in a given piece\n",
    "#of text. Also, notice that the average length of a talk is close\n",
    "#to 2000 words. You can use the word_count feature to compute its\n",
    "#correlation with other variables such as number of views, number\n",
    "#of comments, etc. and derive extremely interesting insights about\n",
    "#TED."
   ],
   "metadata": {
    "collapsed": false,
    "pycharm": {
     "name": "#%%\n"
    }
   }
  },
  {
   "cell_type": "code",
   "execution_count": null,
   "outputs": [],
   "source": [
    "#Hashtags and mentions in Russian tweets\n",
    "\n",
    "#Let's revisit the tweets dataframe containing the Russian tweets.\n",
    "#In this exercise, you will compute the number of hashtags and\n",
    "#mentions in each tweet by defining two functions count_hashtags()\n",
    "#and count_mentions() respectively and applying them to the content\n",
    "#feature of tweets.\n",
    "\n",
    "#In case you don't recall, the tweets are contained in the content\n",
    "#feature of tweets.\n",
    "\n",
    "# Function that returns numner of hashtags in a string\n",
    "#def count_hashtags(string):\n",
    "\t# Split the string into words\n",
    "#    words = string.split()\n",
    "\n",
    "    # Create a list of words that are hashtags\n",
    "#    hashtags = [word for word in words if word.startswith('#')]\n",
    "\n",
    "    # Return number of hashtags\n",
    "#    return(len(hashtags))\n",
    "\n",
    "# Create a feature hashtag_count and display distribution\n",
    "#tweets['hashtag_count'] = tweets['content'].apply(count_hashtags)\n",
    "#tweets['hashtag_count'].hist()\n",
    "#plt.title('Hashtag count distribution')\n",
    "#plt.show()"
   ],
   "metadata": {
    "collapsed": false,
    "pycharm": {
     "name": "#%%\n"
    }
   }
  },
  {
   "cell_type": "markdown",
   "source": [
    "![_images/19.1.svg](_images/19.1.svg)"
   ],
   "metadata": {
    "collapsed": false
   }
  },
  {
   "cell_type": "code",
   "execution_count": null,
   "outputs": [],
   "source": [
    "# Function that returns number of mentions in a string\n",
    "#def count_mentions(string):\n",
    "\t# Split the string into words\n",
    "#    words = string.split()\n",
    "\n",
    "    # Create a list of words that are mentions\n",
    "#    mentions = [word for word in words if word.startswith('@')]\n",
    "\n",
    "    # Return number of mentions\n",
    "#    return(len(mentions))\n",
    "\n",
    "# Create a feature mention_count and display distribution\n",
    "#tweets['mention_count'] = tweets['content'].apply(count_mentions)\n",
    "#tweets['mention_count'].hist()\n",
    "#plt.title('Mention count distribution')\n",
    "#plt.show()"
   ],
   "metadata": {
    "collapsed": false,
    "pycharm": {
     "name": "#%%\n"
    }
   }
  },
  {
   "cell_type": "markdown",
   "source": [
    "![_images/19.2.svg](_images/19.2.svg)\n",
    "You now have a good grasp of how to compute various types of\n",
    "summary features. In the next lesson, we will learn about more\n",
    "advanced features that are capable of capturing more nuanced\n",
    "information beyond simple word and character counts."
   ],
   "metadata": {
    "collapsed": false
   }
  },
  {
   "cell_type": "markdown",
   "source": [
    "**Readability tests**\n",
    "___\n",
    "- overview of readability tests\n",
    "    - determine readability of an English passage\n",
    "    - scale ranging from primary school up to college graduate level\n",
    "    - a mathematical formula utilizing word, syllable, and sentence count\n",
    "    - used in fake news and opinion spam detection\n",
    "- readability text examples\n",
    "    - **Flesch reading ease**\n",
    "        - greater the average sentence length, harder text is to read\n",
    "        - greater the average number of syllables in a word, harder the text is to read\n",
    "        - higher the score, greater the readability\n",
    "        ![_images/19.1.PNG](_images/19.1.PNG)\n",
    "    - **Gunning fog index**\n",
    "    - Simple Measure of Gobbledygook (SMOG)\n",
    "    - Dale-Chall score\n",
    "___"
   ],
   "metadata": {
    "collapsed": false
   }
  }
 ],
 "metadata": {
  "kernelspec": {
   "display_name": "Python 3",
   "language": "python",
   "name": "python3"
  },
  "language_info": {
   "codemirror_mode": {
    "name": "ipython",
    "version": 2
   },
   "file_extension": ".py",
   "mimetype": "text/x-python",
   "name": "python",
   "nbconvert_exporter": "python",
   "pygments_lexer": "ipython2",
   "version": "2.7.6"
  }
 },
 "nbformat": 4,
 "nbformat_minor": 0
}