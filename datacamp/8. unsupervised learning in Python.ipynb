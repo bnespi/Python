{
 "cells": [
  {
   "cell_type": "markdown",
   "metadata": {
    "collapsed": true,
    "pycharm": {
     "name": "#%% md\n"
    }
   },
   "source": [
    "**Unsupervised learning**\n",
    "___\n",
    "- Unsupervised learning finds patterns in data\n",
    "- Dimension = number of features\n",
    "- k-means clustering\n",
    "    - finds clusters of samples\n",
    "    - number of clusters must be specified\n",
    "    - implemented in sklearn (\"scikit-learn\")\n",
    "    - new samples can be assigned to existing clusters\n",
    "        - k-means remembers the mean of each cluster (the \"centroids\")\n",
    "        - finds the nearest centroid to each new sample\n",
    "___"
   ]
  },
  {
   "cell_type": "code",
   "execution_count": null,
   "outputs": [],
   "source": [
    "#clustering 2D points\n",
    "\n",
    "# Import pyplot\n",
    "#import matplotlib.pyplot as plt\n",
    "\n",
    "# Import KMeans\n",
    "#from sklearn.cluster import KMeans\n",
    "\n",
    "# Create a KMeans instance with 3 clusters: model\n",
    "#model = KMeans(n_clusters = 3)\n",
    "\n",
    "# Fit model to points\n",
    "#model.fit(points)\n",
    "\n",
    "# Determine the cluster labels of new_points: labels\n",
    "#labels = model.predict(new_points)\n",
    "\n",
    "# Print cluster labels of new_points\n",
    "#print(labels)\n",
    "\n",
    "#################################################\n",
    "#<script.py> output:\n",
    "#    [1 2 0 1 2 1 2 2 2 0 1 2 2 0 0 2 0 0 2 2 0 2 1 2 1 0 2 0 0 1 1 2 2 2 0 1 2\n",
    "#     2 1 2 0 1 1 0 1 2 0 0 2 2 2 2 0 0 1 1 0 0 0 1 1 2 2 2 1 2 0 2 1 0 1 1 1 2\n",
    "#     1 0 0 1 2 0 1 0 1 2 0 2 0 1 2 2 2 1 2 2 1 0 0 0 0 1 2 1 0 0 1 1 2 1 0 0 1\n",
    "#     0 0 0 2 2 2 2 0 0 2 1 2 0 2 1 0 2 0 0 2 0 2 0 1 2 1 1 2 0 1 2 1 1 0 2 2 1\n",
    "#     0 1 0 2 1 0 0 1 0 2 2 0 2 0 0 2 2 1 2 2 0 1 0 1 1 2 1 2 2 1 1 0 1 1 1 0 2\n",
    "#     2 1 0 1 0 0 2 2 2 1 2 2 2 0 0 1 2 1 1 1 0 2 2 2 2 2 2 0 0 2 0 0 0 0 2 0 0\n",
    "#     2 2 1 0 1 1 0 1 0 1 0 2 2 0 2 2 2 0 1 1 0 2 2 0 2 0 0 2 0 0 1 0 1 1 1 2 0\n",
    "#     0 0 1 2 1 0 1 0 0 2 1 1 1 0 2 2 2 1 2 0 0 2 1 1 0 1 1 0 1 2 1 0 0 0 0 2 0\n",
    "#     0 2 2 1]\n",
    "\n",
    "# Assign the columns of new_points: xs and ys\n",
    "#xs = new_points[:,0]\n",
    "#ys = new_points[:,1]\n",
    "\n",
    "# Make a scatter plot of xs and ys, using labels to define the colors\n",
    "#plt.scatter(xs, ys, c=labels, alpha=0.5)\n",
    "\n",
    "# Assign the cluster centers: centroids\n",
    "#centroids = model.cluster_centers_\n",
    "\n",
    "# Assign the columns of centroids: centroids_x, centroids_y\n",
    "#centroids_x = centroids[:,0]\n",
    "#centroids_y = centroids[:,1]\n",
    "\n",
    "# Make a scatter plot of centroids_x and centroids_y\n",
    "#plt.scatter(centroids_x, centroids_y, marker ='D', s=50)\n",
    "#plt.show()"
   ],
   "metadata": {
    "collapsed": false,
    "pycharm": {
     "name": "#%%\n"
    }
   }
  },
  {
   "cell_type": "markdown",
   "source": [
    "![images/8.1.svg](images/8.1.svg)"
   ],
   "metadata": {
    "collapsed": false
   }
  },
  {
   "cell_type": "markdown",
   "source": [],
   "metadata": {
    "collapsed": false
   }
  },
  {
   "cell_type": "markdown",
   "source": [
    "**Evaluating a clustering**\n",
    "___\n",
    "- compare against known clustering\n",
    "    - using crosstabs\n",
    "- inertia measures clustering quality\n",
    "    - how spread out the clusters are (lower is better)\n",
    "    - distance from each sample to centroid of its cluster\n",
    "    - best choice is elbow in inertia plot"
   ],
   "metadata": {
    "collapsed": false
   }
  },
  {
   "cell_type": "code",
   "execution_count": null,
   "outputs": [],
   "source": [
    "# How many clusters?\n",
    "\n",
    "# Import pyplot\n",
    "#import matplotlib.pyplot as plt\n",
    "\n",
    "# Import KMeans\n",
    "#from sklearn.cluster import KMeans\n",
    "\n",
    "#ks = range(1, 6)\n",
    "#inertias = []\n",
    "\n",
    "#for k in ks:\n",
    "    # Create a KMeans instance with k clusters: model\n",
    "#    model = KMeans(n_clusters=k)\n",
    "\n",
    "    # Fit model to samples\n",
    "#    model.fit(samples)\n",
    "\n",
    "    # Append the inertia to the list of inertias\n",
    "#    inertias.append(model.inertia_)\n",
    "\n",
    "# Plot ks vs inertias\n",
    "#plt.plot(ks, inertias, '-o')\n",
    "#plt.xlabel('number of clusters, k')\n",
    "#plt.ylabel('inertia')\n",
    "#plt.xticks(ks)\n",
    "#plt.show()"
   ],
   "metadata": {
    "collapsed": false,
    "pycharm": {
     "name": "#%%\n"
    }
   }
  },
  {
   "cell_type": "markdown",
   "source": [
    "![images/8.2.svg](images/8.2.svg)"
   ],
   "metadata": {
    "collapsed": false
   }
  },
  {
   "cell_type": "code",
   "execution_count": 1,
   "outputs": [],
   "source": [
    "# Evaluating clusters\n",
    "\n",
    "#import libraries\n",
    "from sklearn.cluster import KMeans\n",
    "import pandas as pd\n",
    "\n",
    "# Create a KMeans model with 3 clusters: model\n",
    "#model = KMeans(n_clusters=3)\n",
    "\n",
    "# Use fit_predict to fit model and obtain cluster labels: labels\n",
    "#labels = model.fit_predict(samples)\n",
    "\n",
    "# Create a DataFrame with labels and varieties as columns: df\n",
    "#df = pd.DataFrame({'labels': labels, 'varieties': varieties})\n",
    "\n",
    "# Create crosstab: ct\n",
    "#ct = pd.crosstab(df['labels'], df['varieties'])\n",
    "\n",
    "# Display ct\n",
    "#print(ct)\n",
    "\n",
    "#################################################\n",
    "#<script.py> output:\n",
    "#    varieties  Canadian wheat  Kama wheat  Rosa wheat\n",
    "#    labels\n",
    "#    0                       0           1          60\n",
    "#    1                      68           9           0\n",
    "#    2                       2          60          10"
   ],
   "metadata": {
    "collapsed": false,
    "pycharm": {
     "name": "#%%\n"
    }
   }
  }
 ],
 "metadata": {
  "kernelspec": {
   "display_name": "Python 3",
   "language": "python",
   "name": "python3"
  },
  "language_info": {
   "codemirror_mode": {
    "name": "ipython",
    "version": 2
   },
   "file_extension": ".py",
   "mimetype": "text/x-python",
   "name": "python",
   "nbconvert_exporter": "python",
   "pygments_lexer": "ipython2",
   "version": "2.7.6"
  }
 },
 "nbformat": 4,
 "nbformat_minor": 0
}