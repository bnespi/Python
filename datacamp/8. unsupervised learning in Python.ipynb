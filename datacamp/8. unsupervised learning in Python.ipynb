{
 "cells": [
  {
   "cell_type": "markdown",
   "metadata": {
    "collapsed": true,
    "pycharm": {
     "name": "#%% md\n"
    }
   },
   "source": [
    "**Unsupervised learning**\n",
    "___\n",
    "- Unsupervised learning finds patterns in data\n",
    "- Dimension = number of features\n",
    "- k-means clustering\n",
    "    - finds clusters of samples\n",
    "    - number of clusters must be specified\n",
    "    - implemented in sklearn (\"scikit-learn\")\n",
    "    - new samples can be assigned to existing clusters\n",
    "        - k-means remembers the mean of each cluster (the \"centroids\")\n",
    "        - finds the nearest centroid to each new sample\n",
    "___"
   ]
  },
  {
   "cell_type": "code",
   "execution_count": null,
   "outputs": [],
   "source": [
    "#clustering 2D points\n",
    "\n",
    "# Import pyplot\n",
    "#import matplotlib.pyplot as plt\n",
    "\n",
    "# Import KMeans\n",
    "#from sklearn.cluster import KMeans\n",
    "\n",
    "# Create a KMeans instance with 3 clusters: model\n",
    "#model = KMeans(n_clusters = 3)\n",
    "\n",
    "# Fit model to points\n",
    "#model.fit(points)\n",
    "\n",
    "# Determine the cluster labels of new_points: labels\n",
    "#labels = model.predict(new_points)\n",
    "\n",
    "# Print cluster labels of new_points\n",
    "#print(labels)\n",
    "\n",
    "#################################################\n",
    "#<script.py> output:\n",
    "#    [1 2 0 1 2 1 2 2 2 0 1 2 2 0 0 2 0 0 2 2 0 2 1 2 1 0 2 0 0 1 1 2 2 2 0 1 2\n",
    "#     2 1 2 0 1 1 0 1 2 0 0 2 2 2 2 0 0 1 1 0 0 0 1 1 2 2 2 1 2 0 2 1 0 1 1 1 2\n",
    "#     1 0 0 1 2 0 1 0 1 2 0 2 0 1 2 2 2 1 2 2 1 0 0 0 0 1 2 1 0 0 1 1 2 1 0 0 1\n",
    "#     0 0 0 2 2 2 2 0 0 2 1 2 0 2 1 0 2 0 0 2 0 2 0 1 2 1 1 2 0 1 2 1 1 0 2 2 1\n",
    "#     0 1 0 2 1 0 0 1 0 2 2 0 2 0 0 2 2 1 2 2 0 1 0 1 1 2 1 2 2 1 1 0 1 1 1 0 2\n",
    "#     2 1 0 1 0 0 2 2 2 1 2 2 2 0 0 1 2 1 1 1 0 2 2 2 2 2 2 0 0 2 0 0 0 0 2 0 0\n",
    "#     2 2 1 0 1 1 0 1 0 1 0 2 2 0 2 2 2 0 1 1 0 2 2 0 2 0 0 2 0 0 1 0 1 1 1 2 0\n",
    "#     0 0 1 2 1 0 1 0 0 2 1 1 1 0 2 2 2 1 2 0 0 2 1 1 0 1 1 0 1 2 1 0 0 0 0 2 0\n",
    "#     0 2 2 1]\n",
    "\n",
    "# Assign the columns of new_points: xs and ys\n",
    "#xs = new_points[:,0]\n",
    "#ys = new_points[:,1]\n",
    "\n",
    "# Make a scatter plot of xs and ys, using labels to define the colors\n",
    "#plt.scatter(xs, ys, c=labels, alpha=0.5)\n",
    "\n",
    "# Assign the cluster centers: centroids\n",
    "#centroids = model.cluster_centers_\n",
    "\n",
    "# Assign the columns of centroids: centroids_x, centroids_y\n",
    "#centroids_x = centroids[:,0]\n",
    "#centroids_y = centroids[:,1]\n",
    "\n",
    "# Make a scatter plot of centroids_x and centroids_y\n",
    "#plt.scatter(centroids_x, centroids_y, marker ='D', s=50)\n",
    "#plt.show()"
   ],
   "metadata": {
    "collapsed": false,
    "pycharm": {
     "name": "#%%\n"
    }
   }
  },
  {
   "cell_type": "markdown",
   "source": [
    "![images/8.1.svg](images/8.1.svg)"
   ],
   "metadata": {
    "collapsed": false
   }
  },
  {
   "cell_type": "markdown",
   "source": [],
   "metadata": {
    "collapsed": false
   }
  },
  {
   "cell_type": "markdown",
   "source": [
    "**Evaluating a clustering**\n",
    "___\n",
    "- compare against known clustering\n",
    "    - using crosstabs\n",
    "- inertia measures clustering quality\n",
    "    - how spread out the clusters are (lower is better)\n",
    "    - distance from each sample to centroid of its cluster\n",
    "    - best choice is elbow in inertia plot\n",
    "___"
   ],
   "metadata": {
    "collapsed": false
   }
  },
  {
   "cell_type": "code",
   "execution_count": null,
   "outputs": [],
   "source": [
    "# How many clusters?\n",
    "\n",
    "# Import pyplot\n",
    "#import matplotlib.pyplot as plt\n",
    "\n",
    "# Import KMeans\n",
    "#from sklearn.cluster import KMeans\n",
    "\n",
    "#ks = range(1, 6)\n",
    "#inertias = []\n",
    "\n",
    "#for k in ks:\n",
    "    # Create a KMeans instance with k clusters: model\n",
    "#    model = KMeans(n_clusters=k)\n",
    "\n",
    "    # Fit model to samples\n",
    "#    model.fit(samples)\n",
    "\n",
    "    # Append the inertia to the list of inertias\n",
    "#    inertias.append(model.inertia_)\n",
    "\n",
    "# Plot ks vs inertias\n",
    "#plt.plot(ks, inertias, '-o')\n",
    "#plt.xlabel('number of clusters, k')\n",
    "#plt.ylabel('inertia')\n",
    "#plt.xticks(ks)\n",
    "#plt.show()"
   ],
   "metadata": {
    "collapsed": false,
    "pycharm": {
     "name": "#%%\n"
    }
   }
  },
  {
   "cell_type": "markdown",
   "source": [
    "![images/8.2.svg](images/8.2.svg)"
   ],
   "metadata": {
    "collapsed": false
   }
  },
  {
   "cell_type": "code",
   "execution_count": 1,
   "outputs": [],
   "source": [
    "# Evaluating clusters\n",
    "\n",
    "#import libraries\n",
    "from sklearn.cluster import KMeans\n",
    "import pandas as pd\n",
    "\n",
    "# Create a KMeans model with 3 clusters: model\n",
    "#model = KMeans(n_clusters=3)\n",
    "\n",
    "# Use fit_predict to fit model and obtain cluster labels: labels\n",
    "#labels = model.fit_predict(samples)\n",
    "\n",
    "# Create a DataFrame with labels and varieties as columns: df\n",
    "#df = pd.DataFrame({'labels': labels, 'varieties': varieties})\n",
    "\n",
    "# Create crosstab: ct\n",
    "#ct = pd.crosstab(df['labels'], df['varieties'])\n",
    "\n",
    "# Display ct\n",
    "#print(ct)\n",
    "\n",
    "#################################################\n",
    "#<script.py> output:\n",
    "#    varieties  Canadian wheat  Kama wheat  Rosa wheat\n",
    "#    labels\n",
    "#    0                       0           1          60\n",
    "#    1                      68           9           0\n",
    "#    2                       2          60          10"
   ],
   "metadata": {
    "collapsed": false,
    "pycharm": {
     "name": "#%%\n"
    }
   }
  },
  {
   "cell_type": "markdown",
   "source": [
    "**Transforming features for better clusterings**\n",
    "___\n",
    "- when features have different variances, clustering will be inaccurate.\n",
    "    - for K Means clustering, variance = influence\n",
    "- StandardScaler from sklearn.preprocessing transforms each feature to have mean 0 and variance 1\n",
    "    - StandardScaler has fit() and transform()\n",
    "    - KMeans has fit() and predict()\n",
    "- Normalizer rescales samples (rather than features) independently of the other\n",
    "___"
   ],
   "metadata": {
    "collapsed": false
   }
  },
  {
   "cell_type": "code",
   "execution_count": null,
   "outputs": [],
   "source": [
    "#scaling data for clustering\n",
    "\n",
    "# Perform the necessary imports\n",
    "#from sklearn.pipeline import make_pipeline\n",
    "#from sklearn.preprocessing import StandardScaler\n",
    "#from sklearn.cluster import KMeans\n",
    "\n",
    "#import pandas as pd\n",
    "\n",
    "# Create scaler: scaler\n",
    "#scaler = StandardScaler()\n",
    "\n",
    "# Create KMeans instance: kmeans\n",
    "#kmeans = KMeans(n_clusters=4)\n",
    "\n",
    "# Create pipeline: pipeline\n",
    "#pipeline = make_pipeline(scaler, kmeans)\n",
    "\n",
    "# Fit the pipeline to samples\n",
    "#pipeline.fit(samples)\n",
    "\n",
    "# Calculate the cluster labels: labels\n",
    "#labels = pipeline.predict(samples)\n",
    "\n",
    "# Create a DataFrame with labels and species as columns: df\n",
    "#df = pd.DataFrame({'labels' : labels, 'species' : species})\n",
    "\n",
    "# Create crosstab: ct\n",
    "#ct = pd.crosstab(df['labels'], df['species'])\n",
    "\n",
    "# Display ct\n",
    "#print(ct)\n",
    "\n",
    "#################################################\n",
    "#<script.py> output:\n",
    "#    species  Bream  Pike  Roach  Smelt\n",
    "#    labels\n",
    "#    0            0     0      0     13\n",
    "#    1           33     0      1      0\n",
    "#    2            0    17      0      0\n",
    "#    3            1     0     19      1"
   ],
   "metadata": {
    "collapsed": false,
    "pycharm": {
     "name": "#%%\n"
    }
   }
  },
  {
   "cell_type": "code",
   "execution_count": null,
   "outputs": [],
   "source": [
    "#Clustering stocks using KMeans and Normalizer\n",
    "\n",
    "# Perform the necessary imports\n",
    "#from sklearn.pipeline import make_pipeline\n",
    "#from sklearn.preprocessing import Normalizer\n",
    "#from sklearn.cluster import KMeans\n",
    "\n",
    "#import pandas as pd\n",
    "\n",
    "# Create a normalizer: normalizer\n",
    "#normalizer = Normalizer()\n",
    "\n",
    "# Create a KMeans model with 10 clusters: kmeans\n",
    "#kmeans = KMeans(n_clusters=10)\n",
    "\n",
    "# Make a pipeline chaining normalizer and kmeans: pipeline\n",
    "#pipeline = make_pipeline(normalizer, kmeans)\n",
    "\n",
    "# Fit pipeline to the daily price movements\n",
    "#pipeline.fit(movements)\n",
    "\n",
    "# Import pandas\n",
    "#import pandas as pd\n",
    "\n",
    "# Predict the cluster labels: labels\n",
    "#labels = pipeline.predict(movements)\n",
    "\n",
    "# Create a DataFrame aligning labels and companies: df\n",
    "#df = pd.DataFrame({'labels': labels, 'companies': companies})\n",
    "\n",
    "# Display df sorted by cluster label\n",
    "#print(df.sort_values('labels'))\n",
    "\n",
    "#################################################\n",
    "#<script.py> output:\n",
    "#        labels                           companies\n",
    "#    59       0                               Yahoo\n",
    "#    15       0                                Ford\n",
    "#    35       0                            Navistar\n",
    "#    26       1                      JPMorgan Chase\n",
    "#    16       1                   General Electrics\n",
    "#    58       1                               Xerox\n",
    "#    11       1                               Cisco\n",
    "#    18       1                       Goldman Sachs\n",
    "#    20       1                          Home Depot\n",
    "#    5        1                     Bank of America\n",
    "#    3        1                    American express\n",
    "#    55       1                         Wells Fargo\n",
    "#    1        1                                 AIG\n",
    "#    38       2                               Pepsi\n",
    "#    40       2                      Procter Gamble\n",
    "#    28       2                           Coca Cola\n",
    "#    27       2                      Kimberly-Clark\n",
    "#    9        2                   Colgate-Palmolive\n",
    "#    54       3                            Walgreen\n",
    "#    36       3                    Northrop Grumman\n",
    "#    29       3                     Lookheed Martin\n",
    "#    4        3                              Boeing\n",
    "#    0        4                               Apple\n",
    "#    47       4                            Symantec\n",
    "#    33       4                           Microsoft\n",
    "#    32       4                                  3M\n",
    "#    31       4                           McDonalds\n",
    "#    30       4                          MasterCard\n",
    "#    50       4  Taiwan Semiconductor Manufacturing\n",
    "#    14       4                                Dell\n",
    "#    17       4                     Google/Alphabet\n",
    "#    24       4                               Intel\n",
    "#    23       4                                 IBM\n",
    "#    2        4                              Amazon\n",
    "#    51       4                   Texas instruments\n",
    "#    43       4                                 SAP\n",
    "#    45       5                                Sony\n",
    "#    48       5                              Toyota\n",
    "#    21       5                               Honda\n",
    "#    22       5                                  HP\n",
    "#    34       5                          Mitsubishi\n",
    "#    7        5                               Canon\n",
    "#    56       6                            Wal-Mart\n",
    "#    57       7                               Exxon\n",
    "#    44       7                        Schlumberger\n",
    "#    8        7                         Caterpillar\n",
    "#    10       7                      ConocoPhillips\n",
    "#    12       7                             Chevron\n",
    "#    13       7                   DuPont de Nemours\n",
    "#    53       7                       Valero Energy\n",
    "#    39       8                              Pfizer\n",
    "#    41       8                       Philip Morris\n",
    "#    25       8                   Johnson & Johnson\n",
    "#    49       9                               Total\n",
    "#    46       9                      Sanofi-Aventis\n",
    "#    37       9                            Novartis\n",
    "#    42       9                   Royal Dutch Shell\n",
    "#    19       9                     GlaxoSmithKline\n",
    "#    52       9                            Unilever\n",
    "#    6        9            British American Tobacco"
   ],
   "metadata": {
    "collapsed": false,
    "pycharm": {
     "name": "#%%\n"
    }
   }
  },
  {
   "cell_type": "markdown",
   "source": [
    "**Visualizing hierarchies**\n",
    "___\n",
    "- t-SNE\n",
    "    - creates a 2D map of a dataset\n",
    "- Hierarchical clustering\n",
    "    - 2D array of scores\n",
    "    - dendrogram\n",
    "    - number of operations = # samples compared - 1\n",
    "    - agglomerative clustering\n",
    "        - each row begins in a separate cluster, at each step the two closest clusters are merged\n",
    "        - continues until all rows are in a single cluster\n",
    "    - divisive clustering\n",
    "        - opposite to agglomerative clustering\n",
    "___"
   ],
   "metadata": {
    "collapsed": false
   }
  },
  {
   "cell_type": "code",
   "execution_count": null,
   "outputs": [],
   "source": [
    "#Hierarchical clustering of grain data\n",
    "\n",
    "# Perform the necessary imports\n",
    "#from scipy.cluster.hierarchy import linkage, dendrogram\n",
    "#import matplotlib.pyplot as plt\n",
    "\n",
    "# Calculate the linkage: mergings\n",
    "#mergings = linkage(samples, method='complete')\n",
    "\n",
    "# Plot the dendrogram, using varieties as labels\n",
    "#dendrogram(mergings,\n",
    "#           labels=varieties,\n",
    "#           leaf_rotation=90,\n",
    "#           leaf_font_size=6,\n",
    "#)\n",
    "#plt.show()"
   ],
   "metadata": {
    "collapsed": false,
    "pycharm": {
     "name": "#%%\n"
    }
   }
  },
  {
   "cell_type": "markdown",
   "source": [
    "![images/8.3.svg](images/8.3.svg)"
   ],
   "metadata": {
    "collapsed": false
   }
  },
  {
   "cell_type": "code",
   "execution_count": null,
   "outputs": [],
   "source": [
    "#Hierarchical clustering of stock data with normalize()\n",
    "\n",
    "# Perform the necessary imports\n",
    "#from scipy.cluster.hierarchy import linkage, dendrogram\n",
    "#import matplotlib.pyplot as plt\n",
    "#from sklearn.preprocessing import normalize\n",
    "\n",
    "# Normalize the movements: normalized_movements\n",
    "#normalized_movements = normalize(movements)\n",
    "\n",
    "# Calculate the linkage: mergings\n",
    "#mergings = linkage(normalized_movements, method='complete')\n",
    "\n",
    "# Plot the dendrogram\n",
    "#dendrogram(mergings,\n",
    "#            labels=companies,\n",
    "#            leaf_rotation=90,\n",
    "#            leaf_font_size=6\n",
    "#)\n",
    "#plt.show()"
   ],
   "metadata": {
    "collapsed": false,
    "pycharm": {
     "name": "#%%\n"
    }
   }
  },
  {
   "cell_type": "markdown",
   "source": [
    "![images/8.4.svg](images/8.4.svg)"
   ],
   "metadata": {
    "collapsed": false
   }
  },
  {
   "cell_type": "markdown",
   "source": [
    "**Cluster labels in hierarchical clustering**\n",
    "___"
   ],
   "metadata": {
    "collapsed": false
   }
  }
 ],
 "metadata": {
  "kernelspec": {
   "display_name": "Python 3",
   "language": "python",
   "name": "python3"
  },
  "language_info": {
   "codemirror_mode": {
    "name": "ipython",
    "version": 2
   },
   "file_extension": ".py",
   "mimetype": "text/x-python",
   "name": "python",
   "nbconvert_exporter": "python",
   "pygments_lexer": "ipython2",
   "version": "2.7.6"
  }
 },
 "nbformat": 4,
 "nbformat_minor": 0
}