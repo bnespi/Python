{
 "cells": [
  {
   "cell_type": "markdown",
   "metadata": {
    "collapsed": true,
    "pycharm": {
     "name": "#%% md\n"
    }
   },
   "source": [
    "**Matplotlib**\n",
    "---"
   ]
  },
  {
   "cell_type": "code",
   "execution_count": 2,
   "outputs": [],
   "source": [
    "#Lists not included below - code is commented out\n",
    "# Print the last item from year and pop\n",
    "#print(year[-1])\n",
    "#print(pop[-1])\n",
    "\n",
    "# Import matplotlib.pyplot as plt\n",
    "#import matplotlib.pyplot as plt\n",
    "\n",
    "# Make a line plot: year on the x-axis, pop on the y-axis\n",
    "#plt.plot(year, pop)\n",
    "\n",
    "# Display the plot with plt.show()\n",
    "#plt.show()\n",
    "\n",
    "# Change the line plot to a scatter plot\n",
    "#plt.scatter(gdp_cap, life_exp)\n",
    "\n",
    "# Put the x-axis on a logarithmic scale\n",
    "#plt.xscale('log')\n",
    "\n",
    "# Show plot\n",
    "#plt.show()"
   ],
   "metadata": {
    "collapsed": false,
    "pycharm": {
     "name": "#%%\n"
    }
   }
  },
  {
   "cell_type": "markdown",
   "source": [
    "**Histogram**\n",
    "---"
   ],
   "metadata": {
    "collapsed": false
   }
  },
  {
   "cell_type": "code",
   "execution_count": 3,
   "outputs": [],
   "source": [
    "#Lists not included below - code is commented out\n",
    "# Create histogram of life_exp data\n",
    "#plt.hist(life_exp)\n",
    "\n",
    "# Display histogram\n",
    "#plt.show()\n",
    "\n",
    "# Build histogram with 5 bins\n",
    "#plt.hist(life_exp, bins=5)\n",
    "\n",
    "# Show and clean up plot\n",
    "#plt.show()\n",
    "#plt.clf()\n",
    "\n",
    "# Build histogram with 20 bins\n",
    "#plt.hist(life_exp, bins=20)"
   ],
   "metadata": {
    "collapsed": false,
    "pycharm": {
     "name": "#%%\n"
    }
   }
  },
  {
   "cell_type": "markdown",
   "source": [
    "**Customization**\n",
    "---"
   ],
   "metadata": {
    "collapsed": false,
    "pycharm": {
     "name": "#%% md\n"
    }
   }
  },
  {
   "cell_type": "code",
   "execution_count": null,
   "outputs": [],
   "source": [
    "\n"
   ],
   "metadata": {
    "collapsed": false,
    "pycharm": {
     "name": "#%%\n"
    }
   }
  }
 ],
 "metadata": {
  "kernelspec": {
   "display_name": "Python 3",
   "language": "python",
   "name": "python3"
  },
  "language_info": {
   "codemirror_mode": {
    "name": "ipython",
    "version": 2
   },
   "file_extension": ".py",
   "mimetype": "text/x-python",
   "name": "python",
   "nbconvert_exporter": "python",
   "pygments_lexer": "ipython2",
   "version": "2.7.6"
  }
 },
 "nbformat": 4,
 "nbformat_minor": 0
}